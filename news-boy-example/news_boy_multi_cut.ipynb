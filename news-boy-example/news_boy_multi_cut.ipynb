{
 "cells": [
  {
   "cell_type": "code",
   "execution_count": 21,
   "metadata": {},
   "outputs": [],
   "source": [
    "import cvxpy as cp\n",
    "import numpy as np"
   ]
  },
  {
   "cell_type": "code",
   "execution_count": 22,
   "metadata": {},
   "outputs": [],
   "source": [
    "cost = np.array([3]).reshape(-1,1)\n",
    "demand = np.array([[1.5],[2],[3.5],[4],[5.5]]).reshape(-1,1)\n",
    "produce = np.array([8])"
   ]
  },
  {
   "cell_type": "code",
   "execution_count": 23,
   "metadata": {},
   "outputs": [],
   "source": [
    "def solve_second_stage_subproblem(produce,all_demand):\n",
    "\n",
    "    selling_price = np.array([5]).reshape(-1,1)\n",
    "    salvage_value = np.array([1]).reshape(-1,1)\n",
    "\n",
    "    duals = np.array([])\n",
    "    vs = np.array([])\n",
    "\n",
    "    for demand in all_demand:\n",
    "\n",
    "        sell = cp.Variable(shape=(1,1))\n",
    "        salvage = cp.Variable(shape=(1,1))\n",
    "\n",
    "        objective = cp.Minimize(-1*(selling_price.T@sell)-1*(salvage_value.T@salvage))\n",
    "        constraints =  [sell+salvage<=produce,sell<=demand[0],salvage>=[0],sell>=[0]]\n",
    "\n",
    "        problem = cp.Problem(objective, constraints)\n",
    "        problem.solve()\n",
    "\n",
    "        dual_value = problem.constraints[0].dual_value\n",
    "\n",
    "        duals = np.append(duals,dual_value)\n",
    "        vs = np.append(vs,problem.value)\n",
    "    \n",
    "\n",
    "    return np.array(duals).reshape(-1,1),np.array(vs).reshape(-1,1)"
   ]
  },
  {
   "cell_type": "code",
   "execution_count": 24,
   "metadata": {},
   "outputs": [],
   "source": [
    "duals,qs = solve_second_stage_subproblem(produce,demand)"
   ]
  },
  {
   "cell_type": "code",
   "execution_count": 51,
   "metadata": {},
   "outputs": [],
   "source": [
    "def solve_first_stage_problem(produce,g_ks,alpha_ks,senario_prob):\n",
    "    \n",
    "    cost = np.array([3]).reshape(-1,1)\n",
    "\n",
    "    produce  = cp.Variable(shape=(1,1))\n",
    "    v = cp.Variable(shape=(len(senario_prob),1))\n",
    "\n",
    "    constraints = []\n",
    "    for i in range(0,len(g_ks)):\n",
    "        for j in range(0,len(g_ks[i])):\n",
    "            constraints.append(np.array([g_ks[i][j]]).T@produce+np.array([alpha_ks[i][j]])<=v[j])\n",
    "\n",
    "    constraints.extend([produce>=0,v>=-1000000,produce<=max(demand)])\n",
    "\n",
    "    objective = cp.Minimize((cost.T@produce)+(senario_prob.T@v))\n",
    "\n",
    "    problem = cp.Problem(objective, constraints)\n",
    "    problem.solve()\n",
    "\n",
    "    print(problem.value)\n",
    "\n",
    "    return produce.value, v.value"
   ]
  },
  {
   "cell_type": "code",
   "execution_count": 52,
   "metadata": {},
   "outputs": [
    {
     "name": "stdout",
     "output_type": "stream",
     "text": [
      "-4.999999999381231\n",
      "[[5.5]]\n",
      "-4.199999985049242\n",
      "[[3.49999999]]\n",
      "-4.199999970023997\n",
      "[[3.49999998]]\n",
      "-4.1999999670463275\n",
      "[[3.49999999]]\n",
      "-4.199999970682626\n",
      "[[3.49999998]]\n",
      "-4.199999959378781\n",
      "[[3.49999999]]\n",
      "-4.199999968661086\n",
      "[[3.49999998]]\n",
      "-4.199999961069073\n",
      "[[3.49999999]]\n",
      "-4.19999996378812\n",
      "[[3.49999998]]\n",
      "-4.199999956567822\n",
      "[[3.49999998]]\n"
     ]
    }
   ],
   "source": [
    "produce = np.array([3])\n",
    "limit = -100000\n",
    "\n",
    "g_ks = []\n",
    "alpha_ks = []\n",
    "\n",
    "senario = 5\n",
    "senario_prob = (1/senario)*(np.ones_like(demand))\n",
    "\n",
    "for i in range(0,10):\n",
    "    duals,qs = solve_second_stage_subproblem(produce,demand)\n",
    "\n",
    "    gks_batch = []\n",
    "    alpha_ks_batch = []\n",
    "\n",
    "    for i in range(0,senario):\n",
    "        gks_batch.append(-duals[i])\n",
    "        alpha_ks_batch.append(qs[i]+duals[i]@produce)\n",
    "  \n",
    "\n",
    "    g_ks.append(gks_batch)\n",
    "    alpha_ks.append(alpha_ks_batch)\n",
    "\n",
    "    produce,limit= solve_first_stage_problem(produce,g_ks,alpha_ks,senario_prob)\n",
    "    print(produce)\n",
    "    # print(limit)\n",
    "\n",
    "    "
   ]
  },
  {
   "cell_type": "code",
   "execution_count": 29,
   "metadata": {},
   "outputs": [
    {
     "data": {
      "text/plain": [
       "(5, 1)"
      ]
     },
     "execution_count": 29,
     "metadata": {},
     "output_type": "execute_result"
    }
   ],
   "source": [
    "qs.shape"
   ]
  },
  {
   "cell_type": "code",
   "execution_count": 31,
   "metadata": {},
   "outputs": [
    {
     "data": {
      "text/plain": [
       "(5,)"
      ]
     },
     "execution_count": 31,
     "metadata": {},
     "output_type": "execute_result"
    }
   ],
   "source": [
    "(duals@produce).shape"
   ]
  },
  {
   "cell_type": "code",
   "execution_count": 20,
   "metadata": {},
   "outputs": [
    {
     "data": {
      "text/plain": [
       "(5,)"
      ]
     },
     "execution_count": 20,
     "metadata": {},
     "output_type": "execute_result"
    }
   ],
   "source": [
    "duals.shape"
   ]
  },
  {
   "cell_type": "code",
   "execution_count": 37,
   "metadata": {},
   "outputs": [],
   "source": [
    "j=0"
   ]
  },
  {
   "cell_type": "code",
   "execution_count": 39,
   "metadata": {},
   "outputs": [
    {
     "data": {
      "text/plain": [
       "array([[[[False, False, False, False, False],\n",
       "         [False, False, False, False, False],\n",
       "         [False, False, False, False, False],\n",
       "         [False, False, False, False, False],\n",
       "         [False, False, False, False, False]],\n",
       "\n",
       "        [[False, False, False, False, False],\n",
       "         [False, False, False, False, False],\n",
       "         [False, False, False, False, False],\n",
       "         [False, False, False, False, False],\n",
       "         [False, False, False, False, False]],\n",
       "\n",
       "        [[False, False, False, False, False],\n",
       "         [False, False, False, False, False],\n",
       "         [False, False, False, False, False],\n",
       "         [False, False, False, False, False],\n",
       "         [False, False, False, False, False]],\n",
       "\n",
       "        [[False, False, False, False, False],\n",
       "         [False, False, False, False, False],\n",
       "         [False, False, False, False, False],\n",
       "         [False, False, False, False, False],\n",
       "         [False, False, False, False, False]],\n",
       "\n",
       "        [[False, False, False, False, False],\n",
       "         [False, False, False, False, False],\n",
       "         [False, False, False, False, False],\n",
       "         [False, False, False, False, False],\n",
       "         [False, False, False, False, False]]]])"
      ]
     },
     "execution_count": 39,
     "metadata": {},
     "output_type": "execute_result"
    }
   ],
   "source": [
    "np.array([g_ks[j]]).T@produce+np.array([alpha_ks[j]])<=-10000"
   ]
  },
  {
   "cell_type": "code",
   "execution_count": null,
   "metadata": {},
   "outputs": [],
   "source": []
  }
 ],
 "metadata": {
  "kernelspec": {
   "display_name": ".venv",
   "language": "python",
   "name": "python3"
  },
  "language_info": {
   "codemirror_mode": {
    "name": "ipython",
    "version": 3
   },
   "file_extension": ".py",
   "mimetype": "text/x-python",
   "name": "python",
   "nbconvert_exporter": "python",
   "pygments_lexer": "ipython3",
   "version": "3.10.11"
  }
 },
 "nbformat": 4,
 "nbformat_minor": 2
}
