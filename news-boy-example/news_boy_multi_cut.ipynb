{
 "cells": [
  {
   "cell_type": "code",
   "execution_count": 11,
   "metadata": {},
   "outputs": [],
   "source": [
    "import cvxpy as cp\n",
    "import numpy as np"
   ]
  },
  {
   "cell_type": "code",
   "execution_count": 12,
   "metadata": {},
   "outputs": [],
   "source": [
    "# Data of the problem\n",
    "cost = np.array([3]).reshape(-1,1)\n",
    "all_demand = np.array([[1.5],[2],[3.5],[4],[5.5]]).reshape(-1,1)\n",
    "selling_price = np.array([5]).reshape(-1,1)\n",
    "salvage_price= np.array([1]).reshape(-1,1)\n",
    "senario = len(all_demand)\n",
    "senario_prob = (1/senario)*(np.ones_like(all_demand))"
   ]
  },
  {
   "cell_type": "code",
   "execution_count": 13,
   "metadata": {},
   "outputs": [],
   "source": [
    "def solve_second_stage_subproblem(selling_price,salvage_price,supply,demand):\n",
    "\n",
    "    sell = cp.Variable(shape=(1,1),name=\"sell\")\n",
    "    salvage = cp.Variable(shape=(1,1),name=\"salvage\")\n",
    "\n",
    "    objective = cp.Minimize(-1*(selling_price.T@sell)-1*(salvage_price.T@salvage))   # Objective function for second stage problem\n",
    "    constraints =  [sell+salvage<=supply,sell<=demand,salvage>=0,sell>=0]  # Constriants for second stage problem\n",
    "\n",
    "    problem = cp.Problem(objective, constraints)\n",
    "    problem.solve()\n",
    "\n",
    "    return problem"
   ]
  },
  {
   "cell_type": "code",
   "execution_count": 14,
   "metadata": {},
   "outputs": [],
   "source": [
    "def solve_first_stage_problem(produce,g_ks,alpha_ks,senario_prob,all_demand):\n",
    "    \n",
    "    # Intiatel variables for the problem\n",
    "    produce  = cp.Variable(shape=(1,1),name=\"produce\")\n",
    "    v = cp.Variable(shape=(len(senario_prob),1),name=\"value\")\n",
    "\n",
    "    # Contraints for first stage problem\n",
    "    constraints = []\n",
    "    for i in range(0,len(g_ks)):\n",
    "        for j in range(0,len(g_ks[i])):\n",
    "            constraints.append(np.array([g_ks[i][j]]).T@produce+np.array([alpha_ks[i][j]])<=v[j])\n",
    "\n",
    "    constraints.extend([produce>=0,v>=-1000000,produce<=max(all_demand)])\n",
    "\n",
    "    objective = cp.Minimize((cost.T@produce)+(senario_prob.T@v))\n",
    "\n",
    "    problem = cp.Problem(objective, constraints)\n",
    "    problem.solve()\n",
    "\n",
    "    return problem"
   ]
  },
  {
   "cell_type": "code",
   "execution_count": 15,
   "metadata": {},
   "outputs": [
    {
     "name": "stdout",
     "output_type": "stream",
     "text": [
      "\n",
      "----------Iteration no.  1--------------------\n",
      "\n",
      "production is 5.499999999719177\n",
      "\n",
      "objctive value is -4.999999999381231\n",
      "\n",
      "\n",
      "----------Iteration no.  2--------------------\n",
      "\n",
      "production is 3.4999999862841835\n",
      "\n",
      "objctive value is -4.199999985049242\n",
      "\n",
      "Terminating condition satisfied !\n"
     ]
    }
   ],
   "source": [
    "produce = np.array([3])            # Initial Guess\n",
    " \n",
    "# Intitalize g and alpha for storing gs and alphas for each cut \n",
    "g_ks = []\n",
    "alpha_ks = []\n",
    "\n",
    "iter=0\n",
    "objctive_values  = [np.nan]\n",
    "epsilon = 10**(-4)\n",
    "while True:\n",
    "\n",
    "    # Solve Second stage problem for each demand and store its duals and objective values\n",
    "    duals = []\n",
    "    objs= []\n",
    "    for demand in all_demand:\n",
    "\n",
    "        second_stage_sol = solve_second_stage_subproblem(selling_price,salvage_price,produce,demand)\n",
    "\n",
    "        temp_dual = second_stage_sol.constraints[0].dual_value   # Take the duals of 1st contraint\n",
    "        temp_obj = second_stage_sol.value                        # Take the objective value of second stage problem\n",
    "\n",
    "        # Store duals and objective values for each senario\n",
    "        duals.append(temp_dual) \n",
    "        objs.append(temp_obj)\n",
    "\n",
    "    # Reshaping the values \n",
    "    duals = np.array(duals).reshape(-1,1)\n",
    "    objs = np.array(objs).reshape(-1,1)\n",
    "\n",
    "    gks_batch = []\n",
    "    alpha_ks_batch = []\n",
    "\n",
    "    for i in range(0,senario):\n",
    "        gks_batch.append(-duals[i])\n",
    "        alpha_ks_batch.append(objs[i]+duals[i]@produce)\n",
    "  \n",
    "    g_ks.append(gks_batch)\n",
    "    alpha_ks.append(alpha_ks_batch)\n",
    "\n",
    "    # Solve the first stage problem\n",
    "    first_stage_sol = solve_first_stage_problem(produce,g_ks,alpha_ks,senario_prob,all_demand)\n",
    "\n",
    "    obj_value = first_stage_sol.value\n",
    "    new_produce = first_stage_sol.var_dict[\"produce\"].value\n",
    "    new_limit = first_stage_sol.var_dict[\"value\"].value\n",
    "\n",
    "    produce,limit = new_produce,new_limit # swap the values\n",
    "\n",
    "    if np.abs(obj_value - objctive_values[-1])<= epsilon:\n",
    "        print(\"Terminating condition satisfied !\")\n",
    "        break\n",
    "    else:\n",
    "        pass\n",
    "\n",
    "    objctive_values.append(obj_value)\n",
    "\n",
    "    produce,limit = new_produce,new_limit # swap the values\n",
    "    iter = iter +1\n",
    "    \n",
    "    print(f\"\\n----------Iteration no.  {iter}--------------------\")\n",
    "    print(f\"\\nproduction is {produce[0][0]}\")\n",
    "    print(f\"\\nobjctive value is {first_stage_sol.value}\\n\")"
   ]
  },
  {
   "cell_type": "code",
   "execution_count": null,
   "metadata": {},
   "outputs": [],
   "source": []
  }
 ],
 "metadata": {
  "kernelspec": {
   "display_name": ".venv",
   "language": "python",
   "name": "python3"
  },
  "language_info": {
   "codemirror_mode": {
    "name": "ipython",
    "version": 3
   },
   "file_extension": ".py",
   "mimetype": "text/x-python",
   "name": "python",
   "nbconvert_exporter": "python",
   "pygments_lexer": "ipython3",
   "version": "3.10.11"
  }
 },
 "nbformat": 4,
 "nbformat_minor": 2
}
