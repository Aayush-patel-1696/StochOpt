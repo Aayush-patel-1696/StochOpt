{
 "cells": [
  {
   "cell_type": "code",
   "execution_count": 63,
   "metadata": {},
   "outputs": [],
   "source": [
    "import cvxpy as cp\n",
    "import numpy as np"
   ]
  },
  {
   "cell_type": "code",
   "execution_count": 52,
   "metadata": {},
   "outputs": [],
   "source": [
    "# Data of the problem\n",
    "cost = np.array([3]).reshape(-1,1)\n",
    "all_demand = np.array([[1.5],[2],[3.5],[4],[5.5]]).reshape(-1,1)\n",
    "selling_price = np.array([5]).reshape(-1,1)\n",
    "salvage_price= np.array([1]).reshape(-1,1)\n",
    "senario = len(all_demand)\n",
    "senario_prob = (1/senario)*(np.ones_like(all_demand))\n",
    "limit = -100000"
   ]
  },
  {
   "cell_type": "code",
   "execution_count": 59,
   "metadata": {},
   "outputs": [],
   "source": [
    "def solve_second_stage_subproblem(selling_price,salvage_price,supply,demand):\n",
    "\n",
    "    sell = cp.Variable(shape=(1,1),name=\"sell\")\n",
    "    salvage = cp.Variable(shape=(1,1),name=\"salvage\")\n",
    "\n",
    "    objective = cp.Minimize(-1*(selling_price.T@sell)-1*(salvage_price.T@salvage))   # Objective function for second stage problem\n",
    "\n",
    "    constraints =  [sell+salvage<=supply,sell<=demand,salvage>=0,sell>=0]  # Constriants for second stage problem\n",
    "\n",
    "    problem = cp.Problem(objective, constraints)\n",
    "    problem.solve()\n",
    "\n",
    "    return problem"
   ]
  },
  {
   "cell_type": "code",
   "execution_count": 60,
   "metadata": {},
   "outputs": [],
   "source": [
    "def solve_first_stage_problem(produce,limit,g_ks,alpha_ks,cost,all_demand):\n",
    "    \n",
    "    # Intiatel variables for the problem\n",
    "    produce  = cp.Variable(shape=(1,1),name=\"produce\")\n",
    "    v = cp.Variable(shape=(1,1),name=\"value\")\n",
    "\n",
    "    # Contraints for first stage problem\n",
    "    constraints = []\n",
    "    for cut in range(0,len(g_ks)):\n",
    "        constraints.append(np.array([g_ks[cut]]).T@produce+np.array([alpha_ks[cut]])<=v)\n",
    "    constraints.extend([produce>=0,v>=-1000000,produce>=limit,produce<=max(all_demand)])\n",
    "\n",
    "    objective = cp.Minimize((cost.T@produce)+v)    #Objective function for first stage problem\n",
    "\n",
    "    problem = cp.Problem(objective, constraints)\n",
    "    problem.solve()\n",
    "\n",
    "    return problem"
   ]
  },
  {
   "cell_type": "code",
   "execution_count": 61,
   "metadata": {},
   "outputs": [
    {
     "name": "stdout",
     "output_type": "stream",
     "text": [
      "-4.42750483617983\n",
      "-4.32948953948668\n",
      "-4.26166131328936\n",
      "-4.199999983099287\n",
      "-4.199999984194896\n",
      "-4.199999970902288\n",
      "-4.19999998054463\n",
      "-4.199999980034166\n",
      "-4.199999978559637\n",
      "-4.199999981047965\n",
      "-4.199999981682764\n"
     ]
    }
   ],
   "source": [
    "\n",
    "# Intitalize g and alpha for storing gs and alphas for each cut \n",
    "g_ks = np.array([[]])\n",
    "alpha_ks = np.array([[]])\n",
    "\n",
    "i=0\n",
    "while True:\n",
    "\n",
    "    # Solve Second stage problem for each demand and store its duals and objective values\n",
    "    duals = []\n",
    "    objs= []\n",
    "    for demand in all_demand:\n",
    "\n",
    "        second_stage_sol = solve_second_stage_subproblem(selling_price,salvage_price,produce,demand)\n",
    "\n",
    "        temp_dual = second_stage_sol.constraints[0].dual_value   # Take the duals of 1st contraint\n",
    "        temp_obj = second_stage_sol.value                        # Take the objective value of second stage problem\n",
    "\n",
    "        # Store duals and objective values for each senario\n",
    "        duals.append(temp_dual) \n",
    "        objs.append(temp_obj)\n",
    "\n",
    "    # Reshaping the values \n",
    "    duals = np.array(duals).reshape(-1,1)\n",
    "    objs = np.array(objs).reshape(-1,1)\n",
    "\n",
    "    # Computing g_ks and alpha_ks \n",
    "    g_ks_temp = -senario_prob.T@duals\n",
    "    alpha_ks_temp = senario_prob.T@objs - g_ks_temp.T@produce\n",
    "    \n",
    "    # Store the values in data storage\n",
    "    g_ks = np.append(g_ks,g_ks_temp)\n",
    "    alpha_ks = np.append(alpha_ks,alpha_ks_temp)\n",
    "\n",
    "    # Solve the first stage problem\n",
    "    first_stage_sol = solve_first_stage_problem(produce,limit,g_ks,alpha_ks,cost,all_demand)\n",
    "    new_produce = first_stage_sol.var_dict[\"produce\"].value\n",
    "    new_limit = first_stage_sol.var_dict[\"value\"].value\n",
    "\n",
    "    produce,limit = new_produce,new_limit # swap the values\n",
    "\n",
    "    if i==10:\n",
    "       break \n",
    "    i=i+1\n",
    "\n"
   ]
  },
  {
   "cell_type": "code",
   "execution_count": 50,
   "metadata": {},
   "outputs": [
    {
     "data": {
      "text/plain": [
       "[Inequality(Expression(AFFINE, UNKNOWN, (1,))),\n",
       " Inequality(Expression(AFFINE, UNKNOWN, (1,))),\n",
       " Inequality(Expression(AFFINE, UNKNOWN, (1,))),\n",
       " Inequality(Expression(AFFINE, UNKNOWN, (1,))),\n",
       " Inequality(Expression(AFFINE, UNKNOWN, (1,))),\n",
       " Inequality(Expression(AFFINE, UNKNOWN, (1,))),\n",
       " Inequality(Expression(AFFINE, UNKNOWN, (1,))),\n",
       " Inequality(Expression(AFFINE, UNKNOWN, (1,))),\n",
       " Inequality(Expression(AFFINE, UNKNOWN, (1,))),\n",
       " Inequality(Expression(AFFINE, UNKNOWN, (1,))),\n",
       " Inequality(Constant(CONSTANT, ZERO, ())),\n",
       " Inequality(Constant(CONSTANT, NONPOSITIVE, ())),\n",
       " Inequality(Constant(CONSTANT, NONPOSITIVE, (1, 1))),\n",
       " Inequality(Variable((1, 1), produce))]"
      ]
     },
     "execution_count": 50,
     "metadata": {},
     "output_type": "execute_result"
    }
   ],
   "source": []
  },
  {
   "cell_type": "code",
   "execution_count": null,
   "metadata": {},
   "outputs": [],
   "source": []
  }
 ],
 "metadata": {
  "kernelspec": {
   "display_name": ".venv",
   "language": "python",
   "name": "python3"
  },
  "language_info": {
   "codemirror_mode": {
    "name": "ipython",
    "version": 3
   },
   "file_extension": ".py",
   "mimetype": "text/x-python",
   "name": "python",
   "nbconvert_exporter": "python",
   "pygments_lexer": "ipython3",
   "version": "3.10.11"
  }
 },
 "nbformat": 4,
 "nbformat_minor": 2
}
