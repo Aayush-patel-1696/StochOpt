{
 "cells": [
  {
   "cell_type": "code",
   "execution_count": 1,
   "metadata": {},
   "outputs": [
    {
     "ename": "NameError",
     "evalue": "name 'ana' is not defined",
     "output_type": "error",
     "traceback": [
      "\u001b[1;31m---------------------------------------------------------------------------\u001b[0m",
      "\u001b[1;31mNameError\u001b[0m                                 Traceback (most recent call last)",
      "Cell \u001b[1;32mIn[1], line 3\u001b[0m\n\u001b[0;32m      1\u001b[0m \u001b[38;5;28;01mimport\u001b[39;00m \u001b[38;5;21;01mcvxpy\u001b[39;00m \u001b[38;5;28;01mas\u001b[39;00m \u001b[38;5;21;01mcp\u001b[39;00m\n\u001b[0;32m      2\u001b[0m \u001b[38;5;28;01mimport\u001b[39;00m \u001b[38;5;21;01mnumpy\u001b[39;00m \u001b[38;5;28;01mas\u001b[39;00m \u001b[38;5;21;01mnp\u001b[39;00m\n\u001b[1;32m----> 3\u001b[0m \u001b[43mana\u001b[49m\n",
      "\u001b[1;31mNameError\u001b[0m: name 'ana' is not defined"
     ]
    }
   ],
   "source": [
    "import cvxpy as cp\n",
    "import numpy as np"
   ]
  },
  {
   "cell_type": "code",
   "execution_count": 2,
   "metadata": {},
   "outputs": [],
   "source": [
    "cost = np.array([3]).reshape(-1,1)\n",
    "demand = np.array([[1.5],[2],[3.5],[4],[5.5]]).reshape(-1,1)\n",
    "produce = np.array([8])"
   ]
  },
  {
   "cell_type": "code",
   "execution_count": 3,
   "metadata": {},
   "outputs": [],
   "source": [
    "def solve_second_stage_subproblem(produce,all_demand):\n",
    "\n",
    "    selling_price = np.array([5]).reshape(-1,1)\n",
    "    salvage_value = np.array([1]).reshape(-1,1)\n",
    "\n",
    "    duals = np.array([])\n",
    "    vs = np.array([])\n",
    "\n",
    "    for demand in all_demand:\n",
    "\n",
    "        sell = cp.Variable(shape=(1,1))\n",
    "        salvage = cp.Variable(shape=(1,1))\n",
    "\n",
    "        objective = cp.Minimize(-1*(selling_price.T@sell)-1*(salvage_value.T@salvage))\n",
    "        constraints =  [sell+salvage<=produce,sell<=demand[0],salvage>=[0],sell>=[0]]\n",
    "\n",
    "        problem = cp.Problem(objective, constraints)\n",
    "        problem.solve()\n",
    "\n",
    "        dual_value = problem.constraints[0].dual_value\n",
    "\n",
    "        duals = np.append(duals,dual_value)\n",
    "        vs = np.append(vs,problem.value)\n",
    "    \n",
    "\n",
    "    return duals,vs"
   ]
  },
  {
   "cell_type": "code",
   "execution_count": 4,
   "metadata": {},
   "outputs": [],
   "source": [
    "duals,qs = solve_second_stage_subproblem(produce,demand)"
   ]
  },
  {
   "cell_type": "code",
   "execution_count": 5,
   "metadata": {},
   "outputs": [],
   "source": [
    "def solve_first_stage_problem(produce,limit,g_ks,alpha_ks):\n",
    "    \n",
    "    cost = np.array([3]).reshape(-1,1)\n",
    "\n",
    "    produce  = cp.Variable(shape=(1,1))\n",
    "    v = cp.Variable(shape=(1,1))\n",
    "\n",
    "    constraints = []\n",
    "    for i in range(0,len(g_ks)):\n",
    "        constraints.append(np.array([g_ks[i]]).T@produce+np.array([alpha_ks[i]])<=v)\n",
    "\n",
    "    constraints.extend([produce>=0,v>=-1000000,produce>=limit,produce<=max(demand)])\n",
    "\n",
    "    objective = cp.Minimize((cost.T@produce)+v)\n",
    "\n",
    "    problem = cp.Problem(objective, constraints)\n",
    "    problem.solve()\n",
    "\n",
    "    print(problem.value)\n",
    "\n",
    "    return produce.value, v.value"
   ]
  },
  {
   "cell_type": "code",
   "execution_count": 6,
   "metadata": {},
   "outputs": [
    {
     "name": "stdout",
     "output_type": "stream",
     "text": [
      "-5.0000000008339605\n",
      "[[5.49999999]]\n",
      "-4.459767163612472\n",
      "[[4.14941791]]\n",
      "-4.299999996677485\n",
      "[[3.74999999]]\n",
      "-4.199999993635306\n",
      "[[3.49999999]]\n",
      "-4.199999989925718\n",
      "[[3.49999998]]\n",
      "-4.199999983394266\n",
      "[[3.49999999]]\n",
      "-4.199999985401114\n",
      "[[3.49999999]]\n",
      "-4.199999983646592\n",
      "[[3.49999999]]\n",
      "-4.199999985139872\n",
      "[[3.49999997]]\n",
      "-4.199999993809657\n",
      "[[3.49999998]]\n"
     ]
    }
   ],
   "source": [
    "produce = np.array([3])\n",
    "limit = -100000\n",
    "\n",
    "g_ks = np.array([[]])\n",
    "alpha_ks = np.array([[]])\n",
    "\n",
    "for i in range(0,10):\n",
    "    duals,qs = solve_second_stage_subproblem(produce,demand)\n",
    "\n",
    "    senario = 5\n",
    "    senario_prob = (1/senario)*(np.ones_like(demand))\n",
    "\n",
    "    g_ks_temp = -senario_prob.T@duals\n",
    "    alpha_ks_temp = senario_prob.T@qs - g_ks_temp.T@produce\n",
    "\n",
    "    g_ks = np.append(g_ks,g_ks_temp)\n",
    "    alpha_ks = np.append(alpha_ks,alpha_ks_temp)\n",
    "\n",
    "    produce,limit= solve_first_stage_problem(produce,limit,g_ks,alpha_ks)\n",
    "    print(produce)\n",
    "    # print(limit)\n",
    "\n",
    "    "
   ]
  },
  {
   "cell_type": "code",
   "execution_count": null,
   "metadata": {},
   "outputs": [],
   "source": []
  }
 ],
 "metadata": {
  "kernelspec": {
   "display_name": ".venv",
   "language": "python",
   "name": "python3"
  },
  "language_info": {
   "codemirror_mode": {
    "name": "ipython",
    "version": 3
   },
   "file_extension": ".py",
   "mimetype": "text/x-python",
   "name": "python",
   "nbconvert_exporter": "python",
   "pygments_lexer": "ipython3",
   "version": "3.10.11"
  }
 },
 "nbformat": 4,
 "nbformat_minor": 2
}
