{
 "cells": [
  {
   "cell_type": "code",
   "execution_count": 17,
   "metadata": {},
   "outputs": [],
   "source": [
    "import cvxpy as cp\n",
    "import numpy as np\n",
    "from itertools import product"
   ]
  },
  {
   "cell_type": "code",
   "execution_count": 18,
   "metadata": {},
   "outputs": [],
   "source": [
    "shipping_cost = np.array([[1,3,2],[3,2,2]]).reshape(2,3)\n",
    "given_demand = np.array([[100,150,120],[120,180,150],[150,200,180]]).reshape(3,3)\n",
    "selling_price = np.array([[16,16]]).reshape(2,1)\n",
    "produce = np.array([100,200]).reshape(2,1)\n",
    "production_cost = np.array([11,10]).reshape(2,1)\n",
    "produce_limit = np.array([300,300]).reshape(2,1)\n",
    "senario = 27\n",
    "senario_prob = (1/senario)*(np.ones((senario,1)))"
   ]
  },
  {
   "cell_type": "code",
   "execution_count": 19,
   "metadata": {},
   "outputs": [],
   "source": [
    "senario_comb = []\n",
    "index = np.arange(0,3)\n",
    "index_permute = product(index,repeat=3)\n",
    "for i in index_permute:\n",
    "    temp_array =[]\n",
    "    for j in range(0,3):\n",
    "        temp_array.append(float(given_demand[j,:][i[j]]))\n",
    "    senario_comb.append(temp_array)\n",
    "all_demand = np.array(senario_comb).reshape(27,3)"
   ]
  },
  {
   "cell_type": "code",
   "execution_count": 20,
   "metadata": {},
   "outputs": [],
   "source": [
    "def solve_second_stage_problem(produce,demand,shipping_cost):\n",
    " \n",
    "    sell = cp.Variable(shape=(2,3))\n",
    "    salvage = cp.Variable(shape=(2,1))\n",
    "\n",
    "    objective = cp.Minimize(-16*cp.sum(sell,keepdims=True) + cp.trace(((shipping_cost@(sell.T)))))\n",
    "    constraints = [cp.sum(sell,axis=1,keepdims=True) +salvage <= produce,cp.sum(sell,axis=0,keepdims=True) <= demand.reshape(1,-1), sell>= np.zeros_like(sell),salvage>= np.zeros_like(salvage)]\n",
    "\n",
    "    problem = cp.Problem(objective, constraints)\n",
    "    problem.solve()\n",
    " \n",
    "    return problem"
   ]
  },
  {
   "cell_type": "code",
   "execution_count": 21,
   "metadata": {},
   "outputs": [],
   "source": [
    "def solve_first_stage_problem(produce,g_ks,alpha_ks,senario_prob,production_cost,produce_limit): \n",
    "\n",
    "    \n",
    "    produce  = cp.Variable(shape=(2,1),name=\"produce\")\n",
    "    v = cp.Variable(shape=(len(senario_prob),1),name=\"value\")\n",
    "\n",
    "    constraints = []\n",
    "    for i in range(0,len(g_ks)):\n",
    "        for j in range(0,len(g_ks[i])):\n",
    "            constraints.append(np.array([g_ks[i][j]])@produce+np.array([alpha_ks[i][j]])<=v[j])\n",
    "\n",
    "    constraints.extend([produce>=0,v>=-100000,produce<=produce_limit])\n",
    "\n",
    "    objective = cp.Minimize(production_cost.T@produce + senario_prob.T@v)\n",
    "\n",
    "    problem = cp.Problem(objective, constraints)\n",
    "    problem.solve()\n",
    "\n",
    "    return problem"
   ]
  },
  {
   "cell_type": "code",
   "execution_count": 23,
   "metadata": {},
   "outputs": [
    {
     "name": "stdout",
     "output_type": "stream",
     "text": [
      "\n",
      "----------Iteration no.  1--------------------\n",
      "\n",
      "production is [[299.99999994]\n",
      " [299.99999997]]\n",
      "\n",
      "objctive value is -2353.5574650735543\n",
      "\n",
      "\n",
      "----------Iteration no.  2--------------------\n",
      "\n",
      "production is [[120.00000011]\n",
      " [299.99999998]]\n",
      "\n",
      "objctive value is -1612.2013023281143\n",
      "\n",
      "\n",
      "----------Iteration no.  3--------------------\n",
      "\n",
      "production is [[120.00000061]\n",
      " [299.99999982]]\n",
      "\n",
      "objctive value is -1609.9999938496248\n",
      "\n",
      "Terminating condition satisfied !\n"
     ]
    }
   ],
   "source": [
    "# produce = np.array([3,3,3]).reshape(-1,1)\n",
    "limit = -100000\n",
    "\n",
    "g_ks = []\n",
    "alpha_ks = []\n",
    "\n",
    "objctive_values  = [np.nan]\n",
    "epsilon = 10**(-4)\n",
    "iter = 0\n",
    "while True:\n",
    "\n",
    "    # Solve Second stage problem for each demand and store its duals and objective values\n",
    "    duals = []\n",
    "    objs= []\n",
    "    for demand in all_demand:\n",
    "\n",
    "        second_stage_sol = solve_second_stage_problem(produce,demand,shipping_cost)\n",
    "\n",
    "        temp_dual = second_stage_sol.constraints[0].dual_value   # Take the duals of 1st contraint\n",
    "        temp_obj = second_stage_sol.value                        # Take the objective value of second stage problem\n",
    "\n",
    "        # Store duals and objective values for each senario\n",
    "        duals.append(temp_dual) \n",
    "        objs.append(temp_obj)\n",
    "\n",
    "     # Reshaping the values \n",
    "    duals = np.array(duals).reshape(-1,2)\n",
    "    objs = np.array(objs).reshape(-1,1)\n",
    "\n",
    "    gks_batch = []\n",
    "    alpha_ks_batch = []\n",
    "\n",
    "    for i in range(0,senario):\n",
    "        gks_batch.append(-duals[i])\n",
    "        alpha_ks_batch.append(objs[i]+duals[i].T@produce)\n",
    "  \n",
    "    g_ks.append(gks_batch)\n",
    "    alpha_ks.append(alpha_ks_batch)\n",
    "\n",
    "    first_stage_sol = solve_first_stage_problem(produce,g_ks,alpha_ks,senario_prob,production_cost,produce_limit)\n",
    "    obj_value = first_stage_sol.value\n",
    "    new_produce = first_stage_sol.var_dict[\"produce\"].value\n",
    "    new_limit = first_stage_sol.var_dict[\"value\"].value\n",
    "\n",
    "    if np.abs(obj_value - objctive_values[-1])<= epsilon:\n",
    "        print(\"Terminating condition satisfied !\")\n",
    "        break\n",
    "       \n",
    "    else:\n",
    "        pass\n",
    "\n",
    "    objctive_values.append(obj_value)\n",
    "    produce,limit = new_produce,new_limit # swap the values\n",
    "    iter = iter+1\n",
    "    \n",
    "    print(f\"\\n----------Iteration no.  {iter}--------------------\")\n",
    "    print(f\"\\nproduction is {produce}\")\n",
    "    print(f\"\\nobjctive value is {first_stage_sol.value}\\n\")\n"
   ]
  },
  {
   "cell_type": "code",
   "execution_count": 14,
   "metadata": {},
   "outputs": [
    {
     "data": {
      "text/plain": [
       "array([[100],\n",
       "       [200]])"
      ]
     },
     "execution_count": 14,
     "metadata": {},
     "output_type": "execute_result"
    }
   ],
   "source": [
    "produce"
   ]
  },
  {
   "cell_type": "code",
   "execution_count": null,
   "metadata": {},
   "outputs": [],
   "source": []
  }
 ],
 "metadata": {
  "kernelspec": {
   "display_name": ".venv",
   "language": "python",
   "name": "python3"
  },
  "language_info": {
   "codemirror_mode": {
    "name": "ipython",
    "version": 3
   },
   "file_extension": ".py",
   "mimetype": "text/x-python",
   "name": "python",
   "nbconvert_exporter": "python",
   "pygments_lexer": "ipython3",
   "version": "3.10.11"
  }
 },
 "nbformat": 4,
 "nbformat_minor": 2
}
