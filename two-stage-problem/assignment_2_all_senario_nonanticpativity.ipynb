{
 "cells": [
  {
   "cell_type": "code",
   "execution_count": 1,
   "metadata": {},
   "outputs": [],
   "source": [
    "import cvxpy as cp\n",
    "import numpy as np\n",
    "from itertools import product"
   ]
  },
  {
   "cell_type": "code",
   "execution_count": 2,
   "metadata": {},
   "outputs": [],
   "source": [
    "shipping_cost = np.array([[1,3,2],[3,2,2]]).reshape(2,3)\n",
    "all_demand = np.array([[100,150,120],[120,180,150],[150,200,180]]).reshape(3,3)\n",
    "selling_price = np.array([[16,16]]).reshape(2,1)\n",
    "produce = np.array([100,200]).reshape(2,1)\n",
    "production_cost = np.array([11,10]).reshape(2,1)"
   ]
  },
  {
   "cell_type": "code",
   "execution_count": 3,
   "metadata": {},
   "outputs": [],
   "source": [
    "senario = np.array([[100,120,150],\n",
    "       [150,180,200],[120,150,180]])\n",
    "senario_comb = []\n",
    "index = np.arange(0,3)\n",
    "index_permute = product(index,repeat=3)\n",
    "for i in index_permute:\n",
    "    temp_array =[]\n",
    "    for j in range(0,3):\n",
    "        temp_array.append(float(senario[j,:][i[j]]))\n",
    "    senario_comb.append(temp_array)\n",
    "all_demand = np.array(senario_comb).reshape(27,3)"
   ]
  },
  {
   "cell_type": "code",
   "execution_count": 33,
   "metadata": {},
   "outputs": [
    {
     "data": {
      "text/plain": [
       "-1609.9999999266336"
      ]
     },
     "execution_count": 33,
     "metadata": {},
     "output_type": "execute_result"
    }
   ],
   "source": [
    "produce = cp.Variable(shape=(2,27))\n",
    "sell = cp.Variable(shape=(54,3))\n",
    "salvage = cp.Variable(shape=(54,1))\n",
    "produce_limit = (np.array([300,300]).reshape(2,1))\n",
    "produce_limit_ext = np.repeat([produce_limit],27,axis=0).reshape(2,27)\n",
    "\n",
    "constraints = []\n",
    "\n",
    "# Nonanticipativity constraints\n",
    "for index,demand in enumerate(all_demand):\n",
    "    constraints.append(cp.reshape(produce[:,index],shape=(2,1))==(1/27)*cp.sum(produce,axis=1,keepdims=True))\n",
    "\n",
    "\n",
    "for index,demand in enumerate(all_demand):\n",
    "    i = index*2\n",
    "    constraints.append(cp.sum(sell[i:i+2,:],axis=1,keepdims=True) +salvage[i:i+2,:] <= cp.reshape(produce[:,index],shape=(2,1)))\n",
    "    constraints.append(cp.sum(sell[i:i+2,:],axis=0,keepdims=True) <= demand.reshape(1,-1))\n",
    "    \n",
    "   \n",
    "constraints_easy = [produce>=0,produce<=produce_limit,sell>= np.zeros_like(sell),salvage>= np.zeros_like(salvage)]\n",
    "constraints.extend(constraints_easy)\n",
    "\n",
    "\n",
    "objective = cp.Minimize((1/27)*cp.sum(production_cost.T@produce)-(16/27)*cp.sum(sell,keepdims=True) + (1/27)*cp.trace(((((np.repeat([shipping_cost],27,axis=0).reshape(-1,3))@(sell.T))))))\n",
    "problem = cp.Problem(objective, constraints)\n",
    "problem.solve()"
   ]
  },
  {
   "cell_type": "code",
   "execution_count": 40,
   "metadata": {},
   "outputs": [
    {
     "data": {
      "text/plain": [
       "array([[0.1111508 ],\n",
       "       [0.13000984]])"
      ]
     },
     "execution_count": 40,
     "metadata": {},
     "output_type": "execute_result"
    }
   ],
   "source": []
  },
  {
   "cell_type": "markdown",
   "metadata": {},
   "source": []
  },
  {
   "cell_type": "code",
   "execution_count": null,
   "metadata": {},
   "outputs": [],
   "source": []
  }
 ],
 "metadata": {
  "kernelspec": {
   "display_name": ".venv",
   "language": "python",
   "name": "python3"
  },
  "language_info": {
   "codemirror_mode": {
    "name": "ipython",
    "version": 3
   },
   "file_extension": ".py",
   "mimetype": "text/x-python",
   "name": "python",
   "nbconvert_exporter": "python",
   "pygments_lexer": "ipython3",
   "version": "3.10.11"
  }
 },
 "nbformat": 4,
 "nbformat_minor": 2
}
