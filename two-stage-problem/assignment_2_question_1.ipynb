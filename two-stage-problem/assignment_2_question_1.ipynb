{
  "cells": [
    {
      "cell_type": "code",
      "execution_count": 2,
      "metadata": {
        "id": "COWzd6JjtUI8"
      },
      "outputs": [],
      "source": [
        "import cvxpy as cp\n",
        "import numpy as np\n",
        "from itertools import product"
      ]
    },
    {
      "cell_type": "markdown",
      "metadata": {
        "id": "ArwH_aY2tUI9"
      },
      "source": [
        "## Data of the Problem"
      ]
    },
    {
      "cell_type": "code",
      "execution_count": 3,
      "metadata": {
        "id": "lhe9LlYBtUI9"
      },
      "outputs": [],
      "source": [
        "shipping_cost = np.array([[1,3,2],[3,2,2]]).reshape(2,3)\n",
        "production_cost = np.array([11,10]).reshape(2,1)\n",
        "given_demand = np.array([[100,150,120],[120,180,150],[150,200,180]]).reshape(3,3)\n",
        "selling_price = np.array([[16,16]]).reshape(2,1)\n",
        "produce = np.array([100,200]).reshape(2,1)\n",
        "produce_limit = np.array([300,300]).reshape(2,1)\n",
        "senario = 27\n",
        "senario_prob = (1/senario)*(np.ones((senario,1)))"
      ]
    },
    {
      "cell_type": "markdown",
      "metadata": {
        "id": "yRcDLbzPtUI-"
      },
      "source": [
        "## Senario generation of the demand"
      ]
    },
    {
      "cell_type": "code",
      "execution_count": 4,
      "metadata": {
        "id": "qqOKzIMgtUI-"
      },
      "outputs": [],
      "source": [
        "senario = given_demand.T\n",
        "senario_comb = []\n",
        "index = np.arange(0,3)\n",
        "index_permute = product(index,repeat=3)\n",
        "for i in index_permute:\n",
        "    temp_array =[]\n",
        "    for j in range(0,3):\n",
        "        temp_array.append(float(senario[j,:][i[j]]))\n",
        "    senario_comb.append(temp_array)\n",
        "all_demand = np.array(senario_comb).reshape(27,3)"
      ]
    },
    {
      "cell_type": "markdown",
      "metadata": {
        "id": "ukgCdYTgtUI-"
      },
      "source": [
        "## Question 1.3 Solve large scale problem combining all senarios into one problem"
      ]
    },
    {
      "cell_type": "markdown",
      "metadata": {
        "id": "5en5ANOGtUI-"
      },
      "source": [
        "## Large scale problem solution"
      ]
    },
    {
      "cell_type": "code",
      "execution_count": 5,
      "metadata": {
        "colab": {
          "base_uri": "https://localhost:8080/",
          "height": 0
        },
        "id": "iAaM9fOutUI-",
        "outputId": "c4edc14a-eec4-48e0-a30d-98b2ce95fa73"
      },
      "outputs": [
        {
          "output_type": "execute_result",
          "data": {
            "text/plain": [
              "-1609.9999997418313"
            ]
          },
          "metadata": {},
          "execution_count": 5
        }
      ],
      "source": [
        "produce = cp.Variable(shape=(2,1))\n",
        "sell = cp.Variable(shape=(54,3))\n",
        "salvage = cp.Variable(shape=(54,1))\n",
        "produce_limit = np.array([300,300]).reshape(2,1)\n",
        "\n",
        "ls_constraints_senario = []\n",
        "for index,demand in enumerate(all_demand):\n",
        "    i = index*2\n",
        "    ls_constraints_senario.append(cp.sum(sell[i:i+2,:],axis=1,keepdims=True) +salvage[i:i+2,:] <= produce)\n",
        "    ls_constraints_senario.append(cp.sum(sell[i:i+2,:],axis=0,keepdims=True) <= demand.reshape(1,-1))\n",
        "\n",
        "\n",
        "ls_constraints = [produce>=0,produce<=produce_limit,sell>= np.zeros_like(sell),salvage>= np.zeros_like(salvage)]\n",
        "ls_constraints.extend(ls_constraints_senario)\n",
        "\n",
        "\n",
        "ls_objective = cp.Minimize((production_cost.T@produce)-(16/27)*cp.sum(sell,keepdims=True) + (1/27)*cp.trace(((((np.repeat([shipping_cost],27,axis=0).reshape(-1,3))@(sell.T))))))\n",
        "ls_problem = cp.Problem(ls_objective, ls_constraints)\n",
        "ls_problem.solve()"
      ]
    },
    {
      "cell_type": "code",
      "execution_count": 6,
      "metadata": {
        "colab": {
          "base_uri": "https://localhost:8080/",
          "height": 0
        },
        "id": "9nxImucUtUI-",
        "outputId": "07079bb6-a233-4786-f336-2fedb75419f4"
      },
      "outputs": [
        {
          "output_type": "stream",
          "name": "stdout",
          "text": [
            "----Large Scale formulation results----\n",
            "Optimal Production plan   [[120.00000002]\n",
            " [299.99999999]]\n",
            "Optimal Value of the Problem -1609.9999997418313\n"
          ]
        }
      ],
      "source": [
        "print(\"----Large Scale formulation results----\")\n",
        "print(\"Optimal Production plan  \", produce.value)\n",
        "print(\"Optimal Value of the Problem\",ls_problem.value)"
      ]
    },
    {
      "cell_type": "markdown",
      "metadata": {
        "id": "E-zmI135tUI-"
      },
      "source": [
        "# Expected value of demand"
      ]
    },
    {
      "cell_type": "code",
      "execution_count": 7,
      "metadata": {
        "id": "cD3uVRfBtUI-"
      },
      "outputs": [],
      "source": [
        "expected_demand = np.mean(all_demand,axis=0)"
      ]
    },
    {
      "cell_type": "code",
      "execution_count": 8,
      "metadata": {
        "colab": {
          "base_uri": "https://localhost:8080/",
          "height": 0
        },
        "id": "Kq1xUApUtUI_",
        "outputId": "c3a05082-8e1d-43ad-aa52-7812366c4cb7"
      },
      "outputs": [
        {
          "output_type": "execute_result",
          "data": {
            "text/plain": [
              "-1773.3333279947847"
            ]
          },
          "metadata": {},
          "execution_count": 8
        }
      ],
      "source": [
        "produce = cp.Variable(shape=(2,1))\n",
        "sell = cp.Variable(shape=(2,3))\n",
        "salvage = cp.Variable(shape=(2,1))\n",
        "produce_limit = np.array([300,300]).reshape(2,1)\n",
        "\n",
        "ed_constraints_senario = []\n",
        "ed_constraints_senario.append(cp.sum(sell,axis=1,keepdims=True) +salvage <= produce)\n",
        "ed_constraints_senario.append(cp.sum(sell,axis=0,keepdims=True) <= expected_demand.reshape(1,-1))\n",
        "\n",
        "\n",
        "ed_constraints = [produce>=0,produce<=produce_limit,sell>= np.zeros_like(sell),salvage>= np.zeros_like(salvage)]\n",
        "ed_constraints.extend(ed_constraints_senario)\n",
        "\n",
        "ed_objective = cp.Minimize((production_cost.T@produce)-(16)*cp.sum(sell,keepdims=True) + (1)*cp.trace(((((np.repeat([shipping_cost],1,axis=0).reshape(-1,3))@(sell.T))))))\n",
        "ed_problem = cp.Problem(ed_objective, ed_constraints)\n",
        "ed_problem.solve()\n"
      ]
    },
    {
      "cell_type": "code",
      "execution_count": 9,
      "metadata": {
        "colab": {
          "base_uri": "https://localhost:8080/",
          "height": 0
        },
        "id": "PVJkz12LtUI_",
        "outputId": "0c1a8592-e5c2-4190-f452-f007b47ac570"
      },
      "outputs": [
        {
          "output_type": "stream",
          "name": "stdout",
          "text": [
            "----- Results using deterministic expected demand----\n",
            "\n",
            "Optimal Production plan using [[150.0000002 ]\n",
            " [299.99999937]]\n",
            "\n",
            "Optimal Value of the Problem -1773.3333279947847\n"
          ]
        }
      ],
      "source": [
        "print(\"----- Results using deterministic expected demand----\")\n",
        "print(\"\\nOptimal Production plan using\",produce.value)\n",
        "print(\"\\nOptimal Value of the Problem\",ed_problem.value)"
      ]
    },
    {
      "cell_type": "markdown",
      "metadata": {
        "id": "407GNWhwtUI_"
      },
      "source": [
        "# Q-1.4\n",
        "# Solving problem treating each demand individually"
      ]
    },
    {
      "cell_type": "code",
      "execution_count": 10,
      "metadata": {
        "id": "1B6gvKNStUI_"
      },
      "outputs": [],
      "source": [
        "produce_over_scenario = []\n",
        "objective_over_scenario = []\n",
        "for demand in all_demand:\n",
        "    produce = cp.Variable(shape=(2,1))\n",
        "    sell = cp.Variable(shape=(2,3))\n",
        "    salvage = cp.Variable(shape=(2,1))\n",
        "    produce_limit = np.array([300,300]).reshape(2,1)\n",
        "\n",
        "    constraints_senario = []\n",
        "    constraints_senario.append(cp.sum(sell,axis=1,keepdims=True) +salvage <= produce)\n",
        "    constraints_senario.append(cp.sum(sell,axis=0,keepdims=True) <= demand.reshape(1,-1))\n",
        "\n",
        "\n",
        "    constraints = [produce>=0,produce<=produce_limit,sell>= np.zeros_like(sell),salvage>= np.zeros_like(salvage)]\n",
        "    constraints.extend(constraints_senario)\n",
        "\n",
        "\n",
        "    objective = cp.Minimize((production_cost.T@produce)-(16)*cp.sum(sell,keepdims=True) + (1)*cp.trace(((((np.repeat([shipping_cost],1,axis=0).reshape(-1,3))@(sell.T))))))\n",
        "    problem = cp.Problem(objective, constraints)\n",
        "    problem.solve()\n",
        "\n",
        "    produce_over_scenario.append(produce.value)\n",
        "    objective_over_scenario.append(problem.value)\n"
      ]
    },
    {
      "cell_type": "code",
      "source": [
        "print(\"Production plan considering each demand as determinstic:\\n\")\n",
        "for index,demand in enumerate(all_demand):\n",
        "    print(f\"\\n-----Senario {index}-----\")\n",
        "    print(\"\\n Demand : \",demand)\n",
        "    print(\"Optimal production\",produce_over_scenario[index])\n",
        "    print(\"Optimal objective value\",objective_over_scenario[index])\n"
      ],
      "metadata": {
        "colab": {
          "base_uri": "https://localhost:8080/",
          "height": 0
        },
        "id": "yONIaPBOvpy7",
        "outputId": "ab3b7825-80d5-4fc0-efb7-0bd0f1f6ed01"
      },
      "execution_count": 22,
      "outputs": [
        {
          "output_type": "stream",
          "name": "stdout",
          "text": [
            "Production plan considering each demand as determinstic:\n",
            "\n",
            "\n",
            "-----Senario 0-----\n",
            "\n",
            " Demand :  [100. 150. 120.]\n",
            "Optimal production [100.00000039 269.99999935]\n",
            "Optimal objective value [-1479.99999364]\n",
            "\n",
            "-----Senario 1-----\n",
            "\n",
            " Demand :  [100. 150. 150.]\n",
            "Optimal production [100.00000002 299.99999981]\n",
            "Optimal objective value [-1599.99999832]\n",
            "\n",
            "-----Senario 2-----\n",
            "\n",
            " Demand :  [100. 150. 180.]\n",
            "Optimal production [130.00000026 299.99999889]\n",
            "Optimal objective value [-1689.99999141]\n",
            "\n",
            "-----Senario 3-----\n",
            "\n",
            " Demand :  [100. 180. 120.]\n",
            "Optimal production [100.00000005 299.99999988]\n",
            "Optimal objective value [-1599.99999891]\n",
            "\n",
            "-----Senario 4-----\n",
            "\n",
            " Demand :  [100. 180. 150.]\n",
            "Optimal production [130.00000023 299.99999923]\n",
            "Optimal objective value [-1689.99999382]\n",
            "\n",
            "-----Senario 5-----\n",
            "\n",
            " Demand :  [100. 180. 180.]\n",
            "Optimal production [159.99999998 299.99999967]\n",
            "Optimal objective value [-1779.9999969]\n",
            "\n",
            "-----Senario 6-----\n",
            "\n",
            " Demand :  [100. 200. 120.]\n",
            "Optimal production [120.00000025 299.99999945]\n",
            "Optimal objective value [-1659.99999698]\n",
            "\n",
            "-----Senario 7-----\n",
            "\n",
            " Demand :  [100. 200. 150.]\n",
            "Optimal production [149.99999993 299.99999961]\n",
            "Optimal objective value [-1749.99999596]\n",
            "\n",
            "-----Senario 8-----\n",
            "\n",
            " Demand :  [100. 200. 180.]\n",
            "Optimal production [180.00000003 299.99999979]\n",
            "Optimal objective value [-1839.99999805]\n",
            "\n",
            "-----Senario 9-----\n",
            "\n",
            " Demand :  [120. 150. 120.]\n",
            "Optimal production [119.99999994 269.99999991]\n",
            "Optimal objective value [-1559.99999559]\n",
            "\n",
            "-----Senario 10-----\n",
            "\n",
            " Demand :  [120. 150. 150.]\n",
            "Optimal production [120.00000003 299.99999982]\n",
            "Optimal objective value [-1679.9999986]\n",
            "\n",
            "-----Senario 11-----\n",
            "\n",
            " Demand :  [120. 150. 180.]\n",
            "Optimal production [150.00000009 299.99999927]\n",
            "Optimal objective value [-1769.99999349]\n",
            "\n",
            "-----Senario 12-----\n",
            "\n",
            " Demand :  [120. 180. 120.]\n",
            "Optimal production [120.00000005 299.99999984]\n",
            "Optimal objective value [-1679.9999986]\n",
            "\n",
            "-----Senario 13-----\n",
            "\n",
            " Demand :  [120. 180. 150.]\n",
            "Optimal production [150.00000012 299.99999944]\n",
            "Optimal objective value [-1769.9999949]\n",
            "\n",
            "-----Senario 14-----\n",
            "\n",
            " Demand :  [120. 180. 180.]\n",
            "Optimal production [180.         299.99999975]\n",
            "Optimal objective value [-1859.99999757]\n",
            "\n",
            "-----Senario 15-----\n",
            "\n",
            " Demand :  [120. 200. 120.]\n",
            "Optimal production [140.00000017 299.99999961]\n",
            "Optimal objective value [-1739.9999974]\n",
            "\n",
            "-----Senario 16-----\n",
            "\n",
            " Demand :  [120. 200. 150.]\n",
            "Optimal production [169.99999984 299.9999997 ]\n",
            "Optimal objective value [-1829.99999624]\n",
            "\n",
            "-----Senario 17-----\n",
            "\n",
            " Demand :  [120. 200. 180.]\n",
            "Optimal production [200.00000005 299.99999971]\n",
            "Optimal objective value [-1919.99999723]\n",
            "\n",
            "-----Senario 18-----\n",
            "\n",
            " Demand :  [150. 150. 120.]\n",
            "Optimal production [150.00000002 269.99999984]\n",
            "Optimal objective value [-1679.99999553]\n",
            "\n",
            "-----Senario 19-----\n",
            "\n",
            " Demand :  [150. 150. 150.]\n",
            "Optimal production [150.00000009 299.99999988]\n",
            "Optimal objective value [-1799.99999927]\n",
            "\n",
            "-----Senario 20-----\n",
            "\n",
            " Demand :  [150. 150. 180.]\n",
            "Optimal production [179.99999999 299.99999952]\n",
            "Optimal objective value [-1889.99999498]\n",
            "\n",
            "-----Senario 21-----\n",
            "\n",
            " Demand :  [150. 180. 120.]\n",
            "Optimal production [150.00000012 299.99999987]\n",
            "Optimal objective value [-1799.99999924]\n",
            "\n",
            "-----Senario 22-----\n",
            "\n",
            " Demand :  [150. 180. 150.]\n",
            "Optimal production [179.99999999 299.99999959]\n",
            "Optimal objective value [-1889.99999532]\n",
            "\n",
            "-----Senario 23-----\n",
            "\n",
            " Demand :  [150. 180. 180.]\n",
            "Optimal production [210.00000018 299.99999963]\n",
            "Optimal objective value [-1979.99999711]\n",
            "\n",
            "-----Senario 24-----\n",
            "\n",
            " Demand :  [150. 200. 120.]\n",
            "Optimal production [170.00000024 299.99999969]\n",
            "Optimal objective value [-1859.99999733]\n",
            "\n",
            "-----Senario 25-----\n",
            "\n",
            " Demand :  [150. 200. 150.]\n",
            "Optimal production [200.00000007 299.99999967]\n",
            "Optimal objective value [-1949.99999696]\n",
            "\n",
            "-----Senario 26-----\n",
            "\n",
            " Demand :  [150. 200. 180.]\n",
            "Optimal production [230.00000017 299.9999995 ]\n",
            "Optimal objective value [-2039.99999562]\n"
          ]
        }
      ]
    },
    {
      "cell_type": "markdown",
      "metadata": {
        "id": "tZx0YHg9tUI_"
      },
      "source": [
        "# Calculating value of perfect information"
      ]
    },
    {
      "cell_type": "code",
      "execution_count": 12,
      "metadata": {
        "colab": {
          "base_uri": "https://localhost:8080/",
          "height": 0
        },
        "id": "9hqPyFLqtUI_",
        "outputId": "d6ece2c7-d348-41ea-b65e-a55cf7a047c4"
      },
      "outputs": [
        {
          "output_type": "stream",
          "name": "stdout",
          "text": [
            "Value of value of perfect information  159.9999967386409\n"
          ]
        }
      ],
      "source": [
        "produce_over_scenario = np.array(produce_over_scenario).reshape(27,2)\n",
        "objective_over_scenario = np.array(objective_over_scenario).reshape(27,1)\n",
        "value_of_perfect_info = ls_problem.value - np.mean(objective_over_scenario)\n",
        "\n",
        "print(\"Value of value of perfect information \",value_of_perfect_info)"
      ]
    },
    {
      "cell_type": "markdown",
      "metadata": {
        "id": "Uzjwtdj7tUI_"
      },
      "source": [
        "# Q 1.5\n",
        "# Solve the scenario formulation with nonanticipativity constraints."
      ]
    },
    {
      "cell_type": "code",
      "execution_count": 13,
      "metadata": {
        "colab": {
          "base_uri": "https://localhost:8080/",
          "height": 0
        },
        "id": "fVdo6TQntUI_",
        "outputId": "1e1fe79b-af03-47a8-cc2d-53ab746bac8a"
      },
      "outputs": [
        {
          "output_type": "execute_result",
          "data": {
            "text/plain": [
              "-1609.9999999266336"
            ]
          },
          "metadata": {},
          "execution_count": 13
        }
      ],
      "source": [
        "produce = cp.Variable(shape=(2,27))\n",
        "sell = cp.Variable(shape=(54,3))\n",
        "salvage = cp.Variable(shape=(54,1))\n",
        "produce_limit = (np.array([300,300]).reshape(2,1))\n",
        "produce_limit_ext = np.repeat([produce_limit],27,axis=0).reshape(2,27)\n",
        "\n",
        "na_constraints = []\n",
        "\n",
        "# Nonanticipativity constraints\n",
        "for index,demand in enumerate(all_demand):\n",
        "    na_constraints.append(cp.reshape(produce[:,index],shape=(2,1))==(1/27)*cp.sum(produce,axis=1,keepdims=True))\n",
        "\n",
        "\n",
        "for index,demand in enumerate(all_demand):\n",
        "    i = index*2\n",
        "    na_constraints.append(cp.sum(sell[i:i+2,:],axis=1,keepdims=True) +salvage[i:i+2,:] <= cp.reshape(produce[:,index],shape=(2,1)))\n",
        "    na_constraints.append(cp.sum(sell[i:i+2,:],axis=0,keepdims=True) <= demand.reshape(1,-1))\n",
        "\n",
        "\n",
        "constraints = [produce>=0,produce<=produce_limit,sell>= np.zeros_like(sell),salvage>= np.zeros_like(salvage)]\n",
        "na_constraints.extend(constraints)\n",
        "\n",
        "\n",
        "na_objective = cp.Minimize((1/27)*cp.sum(production_cost.T@produce)-(16/27)*cp.sum(sell,keepdims=True) + (1/27)*cp.trace(((((np.repeat([shipping_cost],27,axis=0).reshape(-1,3))@(sell.T))))))\n",
        "na_problem = cp.Problem(na_objective, na_constraints)\n",
        "na_problem.solve()"
      ]
    },
    {
      "cell_type": "code",
      "execution_count": 14,
      "metadata": {
        "colab": {
          "base_uri": "https://localhost:8080/",
          "height": 0
        },
        "id": "2JozOly5tUI_",
        "outputId": "9fd32a33-e3e0-4a05-de89-f30515c7228e"
      },
      "outputs": [
        {
          "output_type": "stream",
          "name": "stdout",
          "text": [
            "----- Results using nonanticipativity ----\n",
            "\n",
            "Optimal Production plan using [[120.00000001 120.00000001 120.00000001 120.00000001 120.00000001\n",
            "  120.00000001 120.00000001 120.00000001 120.00000001 120.00000001\n",
            "  120.00000001 120.00000001 120.00000001 120.00000001 120.00000001\n",
            "  120.00000001 120.00000001 120.00000001 120.00000001 120.00000001\n",
            "  120.00000001 120.00000001 120.00000001 120.00000001 120.00000001\n",
            "  120.00000001 120.00000001]\n",
            " [299.99999999 299.99999999 299.99999999 299.99999999 299.99999999\n",
            "  299.99999999 299.99999999 299.99999999 299.99999999 299.99999999\n",
            "  299.99999999 299.99999999 299.99999999 299.99999999 299.99999999\n",
            "  299.99999999 299.99999999 299.99999999 299.99999999 299.99999999\n",
            "  299.99999999 299.99999999 299.99999999 299.99999999 299.99999999\n",
            "  299.99999999 299.99999999]]\n",
            "\n",
            "Optimal Value of the Problem -1609.9999999266336\n"
          ]
        }
      ],
      "source": [
        "print(\"----- Results using nonanticipativity ----\")\n",
        "print(\"\\nOptimal Production plan using\",produce.value)\n",
        "print(\"\\nOptimal Value of the Problem\",na_problem.value)"
      ]
    },
    {
      "cell_type": "code",
      "source": [
        "for i in range(0,27):\n",
        "    print(f\"\\nSecinario-{i}-------\")\n",
        "    print(\"Dual values for non anticipativiaty constraints\")\n",
        "    print(na_problem.constraints[i].dual_value)"
      ],
      "metadata": {
        "colab": {
          "base_uri": "https://localhost:8080/",
          "height": 0
        },
        "id": "j2UV5CvMu-1S",
        "outputId": "5ee7a32b-2a27-441d-bb2a-ee9cdde4e672"
      },
      "execution_count": 15,
      "outputs": [
        {
          "output_type": "stream",
          "name": "stdout",
          "text": [
            "\n",
            "Secinario-0-------\n",
            "Dual values for non anticipativiaty constraints\n",
            "[[-0.40736772]\n",
            " [-0.38850868]]\n",
            "\n",
            "Secinario-1-------\n",
            "Dual values for non anticipativiaty constraints\n",
            "[[-0.40736772]\n",
            " [-0.38850868]]\n",
            "\n",
            "Secinario-2-------\n",
            "Dual values for non anticipativiaty constraints\n",
            "[[0.1111508 ]\n",
            " [0.13000983]]\n",
            "\n",
            "Secinario-3-------\n",
            "Dual values for non anticipativiaty constraints\n",
            "[[-0.40736772]\n",
            " [-0.38850868]]\n",
            "\n",
            "Secinario-4-------\n",
            "Dual values for non anticipativiaty constraints\n",
            "[[0.1111508 ]\n",
            " [0.13000983]]\n",
            "\n",
            "Secinario-5-------\n",
            "Dual values for non anticipativiaty constraints\n",
            "[[0.1111508 ]\n",
            " [0.13000984]]\n",
            "\n",
            "Secinario-6-------\n",
            "Dual values for non anticipativiaty constraints\n",
            "[[-0.22686037]\n",
            " [-0.20800133]]\n",
            "\n",
            "Secinario-7-------\n",
            "Dual values for non anticipativiaty constraints\n",
            "[[0.1111508 ]\n",
            " [0.13000983]]\n",
            "\n",
            "Secinario-8-------\n",
            "Dual values for non anticipativiaty constraints\n",
            "[[0.1111508 ]\n",
            " [0.13000983]]\n",
            "\n",
            "Secinario-9-------\n",
            "Dual values for non anticipativiaty constraints\n",
            "[[-0.38833617]\n",
            " [-0.38850868]]\n",
            "\n",
            "Secinario-10-------\n",
            "Dual values for non anticipativiaty constraints\n",
            "[[-0.22035849]\n",
            " [-0.21281738]]\n",
            "\n",
            "Secinario-11-------\n",
            "Dual values for non anticipativiaty constraints\n",
            "[[0.11937578]\n",
            " [0.13000983]]\n",
            "\n",
            "Secinario-12-------\n",
            "Dual values for non anticipativiaty constraints\n",
            "[[-0.21999804]\n",
            " [-0.21298303]]\n",
            "\n",
            "Secinario-13-------\n",
            "Dual values for non anticipativiaty constraints\n",
            "[[0.11948053]\n",
            " [0.13000983]]\n",
            "\n",
            "Secinario-14-------\n",
            "Dual values for non anticipativiaty constraints\n",
            "[[0.1197892 ]\n",
            " [0.13000983]]\n",
            "\n",
            "Secinario-15-------\n",
            "Dual values for non anticipativiaty constraints\n",
            "[[0.11968862]\n",
            " [0.13000983]]\n",
            "\n",
            "Secinario-16-------\n",
            "Dual values for non anticipativiaty constraints\n",
            "[[0.11970901]\n",
            " [0.13000983]]\n",
            "\n",
            "Secinario-17-------\n",
            "Dual values for non anticipativiaty constraints\n",
            "[[0.12004366]\n",
            " [0.13000983]]\n",
            "\n",
            "Secinario-18-------\n",
            "Dual values for non anticipativiaty constraints\n",
            "[[-0.18061571]\n",
            " [-0.23583074]]\n",
            "\n",
            "Secinario-19-------\n",
            "Dual values for non anticipativiaty constraints\n",
            "[[0.14818783]\n",
            " [0.10762363]]\n",
            "\n",
            "Secinario-20-------\n",
            "Dual values for non anticipativiaty constraints\n",
            "[[0.14818783]\n",
            " [0.13000983]]\n",
            "\n",
            "Secinario-21-------\n",
            "Dual values for non anticipativiaty constraints\n",
            "[[0.14818783]\n",
            " [0.10750179]]\n",
            "\n",
            "Secinario-22-------\n",
            "Dual values for non anticipativiaty constraints\n",
            "[[0.14818783]\n",
            " [0.13000983]]\n",
            "\n",
            "Secinario-23-------\n",
            "Dual values for non anticipativiaty constraints\n",
            "[[0.14818783]\n",
            " [0.13000983]]\n",
            "\n",
            "Secinario-24-------\n",
            "Dual values for non anticipativiaty constraints\n",
            "[[0.14818783]\n",
            " [0.13000984]]\n",
            "\n",
            "Secinario-25-------\n",
            "Dual values for non anticipativiaty constraints\n",
            "[[0.14818783]\n",
            " [0.13000984]]\n",
            "\n",
            "Secinario-26-------\n",
            "Dual values for non anticipativiaty constraints\n",
            "[[0.14818783]\n",
            " [0.13000984]]\n"
          ]
        }
      ]
    },
    {
      "cell_type": "markdown",
      "metadata": {
        "id": "OsRzTwc3tUI_"
      },
      "source": [
        "# Q-1.6\n",
        "# Solve the problem by the cutting plane method in the basic version (Benders decomposition)"
      ]
    },
    {
      "cell_type": "code",
      "execution_count": 16,
      "metadata": {
        "id": "rRyE1MpKtUJA"
      },
      "outputs": [],
      "source": [
        "def solve_second_stage_problem(produce,demand,shipping_cost):\n",
        "\n",
        "    sell = cp.Variable(shape=(2,3))\n",
        "    salvage = cp.Variable(shape=(2,1))\n",
        "\n",
        "    objective = cp.Minimize(-16*cp.sum(sell,keepdims=True) + cp.trace((((shipping_cost@(sell.T))))))\n",
        "    constraints = [cp.sum(sell,axis=1,keepdims=True) +salvage <= produce,cp.sum(sell,axis=0,keepdims=True) <= demand.reshape(1,-1), sell>= np.zeros_like(sell),salvage>= np.zeros_like(salvage)]\n",
        "\n",
        "    problem = cp.Problem(objective, constraints)\n",
        "    problem.solve()\n",
        "\n",
        "    return problem\n",
        "\n",
        "\n",
        "def solve_master_problem(produce,produce_limit,g_ks,alpha_ks):\n",
        "\n",
        "    production_cost = np.array([11,10]).reshape(2,1)\n",
        "    produce  = cp.Variable(shape=(2,1),name=\"produce\")\n",
        "    v = cp.Variable(shape=(1,1),name=\"value\")\n",
        "\n",
        "    constraints = []\n",
        "    for i in range(0,len(g_ks)):\n",
        "        constraints.append(np.array(g_ks[i]).T@produce+np.array(alpha_ks[i])<=v)\n",
        "\n",
        "    constraints.extend([produce>=0,v>=-100000,produce<=produce_limit])\n",
        "\n",
        "    objective = cp.Minimize(production_cost.T@produce + v)\n",
        "\n",
        "    problem = cp.Problem(objective, constraints)\n",
        "    problem.solve()\n",
        "\n",
        "    return problem"
      ]
    },
    {
      "cell_type": "code",
      "execution_count": 17,
      "metadata": {
        "colab": {
          "base_uri": "https://localhost:8080/",
          "height": 0
        },
        "id": "4EW4k9SBtUJA",
        "outputId": "6fc685c7-f3e6-4722-80cb-954dcffffbca"
      },
      "outputs": [
        {
          "output_type": "stream",
          "name": "stdout",
          "text": [
            "\n",
            "----------Iteration no.  1--------------------\n",
            "\n",
            "production is [[300.00000004]\n",
            " [299.99999992]]\n",
            "\n",
            "objctive value is -2351.895943550797\n",
            "\n",
            "\n",
            "----------Iteration no.  2--------------------\n",
            "\n",
            "production is [[149.00805118]\n",
            " [299.9999992 ]]\n",
            "\n",
            "objctive value is -1784.2447749212179\n",
            "\n",
            "\n",
            "----------Iteration no.  3--------------------\n",
            "\n",
            "production is [[112.70470909]\n",
            " [300.00000003]]\n",
            "\n",
            "objctive value is -1647.7631011106232\n",
            "\n",
            "\n",
            "----------Iteration no.  4--------------------\n",
            "\n",
            "production is [[125.23365091]\n",
            " [299.99999495]]\n",
            "\n",
            "objctive value is -1618.5289057328064\n",
            "\n",
            "\n",
            "----------Iteration no.  5--------------------\n",
            "\n",
            "production is [[119.99999869]\n",
            " [299.99999991]]\n",
            "\n",
            "objctive value is -1609.9999959895367\n",
            "\n",
            "Terminating condition satisfied !\n"
          ]
        }
      ],
      "source": [
        "produce = np.array([100,200]).reshape(2,1)  # Initial Guess\n",
        "g_ks = []\n",
        "alpha_ks = []\n",
        "\n",
        "objctive_values  = [np.nan]\n",
        "epsilon = 10**(-4)\n",
        "iter = 0\n",
        "\n",
        "while True:\n",
        "\n",
        "    # Solve Second stage problem for each demand and store its duals and objective values\n",
        "    duals = []\n",
        "    objs= []\n",
        "    for demand in all_demand:\n",
        "\n",
        "        second_stage_sol = solve_second_stage_problem(produce,demand,shipping_cost)\n",
        "\n",
        "        temp_dual = second_stage_sol.constraints[0].dual_value   # Take the duals of 1st contraint\n",
        "        temp_obj = second_stage_sol.value                        # Take the objective value of second stage problem\n",
        "\n",
        "        # Store duals and objective values for each senario\n",
        "        duals.append(temp_dual)\n",
        "        objs.append(temp_obj)\n",
        "\n",
        "    # Reshaping the values\n",
        "    duals = np.array(duals).reshape(-1,2)\n",
        "    objs = np.array(objs).reshape(-1,1)\n",
        "\n",
        "    g_ks_temp = (-senario_prob.T@duals).T\n",
        "    alpha_ks_temp = senario_prob.T@objs - g_ks_temp.T@produce\n",
        "\n",
        "    g_ks.append(g_ks_temp)\n",
        "    alpha_ks.append(alpha_ks_temp)\n",
        "\n",
        "    first_stage_sol = solve_master_problem(produce,produce_limit,g_ks,alpha_ks)\n",
        "    obj_value = first_stage_sol.value\n",
        "    new_produce = first_stage_sol.var_dict[\"produce\"].value\n",
        "    new_limit = first_stage_sol.var_dict[\"value\"].value\n",
        "\n",
        "    if np.abs(obj_value - objctive_values[-1])<= epsilon:\n",
        "        print(\"Terminating condition satisfied !\")\n",
        "        break\n",
        "    else:\n",
        "        pass\n",
        "\n",
        "    objctive_values.append(obj_value)\n",
        "    produce,limit = new_produce,new_limit # swap the values\n",
        "    iter = iter+1\n",
        "\n",
        "    print(f\"\\n----------Iteration no.  {iter}--------------------\")\n",
        "    print(f\"\\nproduction is {produce}\")\n",
        "    print(f\"\\nobjctive value is {first_stage_sol.value}\\n\")\n"
      ]
    },
    {
      "cell_type": "code",
      "execution_count": 18,
      "metadata": {
        "colab": {
          "base_uri": "https://localhost:8080/",
          "height": 0
        },
        "id": "xOu8M9M3tUJA",
        "outputId": "81deb45d-037f-44a4-93c5-6d9c56ceb49f"
      },
      "outputs": [
        {
          "output_type": "stream",
          "name": "stdout",
          "text": [
            "----- Results using Bender Decompostion ----\n",
            "\n",
            "production is [[119.99999869]\n",
            " [299.99999991]]\n",
            "\n",
            "objctive value is -1609.9999957406962\n",
            "\n"
          ]
        }
      ],
      "source": [
        "\n",
        "print(\"----- Results using Bender Decompostion ----\")\n",
        "print(f\"\\nproduction is {produce}\")\n",
        "print(f\"\\nobjctive value is {first_stage_sol.value}\\n\")\n"
      ]
    },
    {
      "cell_type": "markdown",
      "metadata": {
        "id": "--cTUXl1tUJA"
      },
      "source": [
        "# Q-1.7 (Solve the problem by the multicut method)"
      ]
    },
    {
      "cell_type": "code",
      "execution_count": 19,
      "metadata": {
        "id": "N0Uj6oVitUJA"
      },
      "outputs": [],
      "source": [
        "\n",
        "\n",
        "def solve_master_problem_ml(produce,g_ks,alpha_ks,senario_prob,production_cost,produce_limit):\n",
        "\n",
        "\n",
        "    produce  = cp.Variable(shape=(2,1),name=\"produce\")\n",
        "    v = cp.Variable(shape=(len(senario_prob),1),name=\"value\")\n",
        "\n",
        "    constraints = []\n",
        "    for i in range(0,len(g_ks)):\n",
        "        for j in range(0,len(g_ks[i])):\n",
        "            constraints.append(np.array([g_ks[i][j]])@produce+np.array([alpha_ks[i][j]])<=v[j])\n",
        "\n",
        "    constraints.extend([produce>=0,v>=-100000,produce<=produce_limit])\n",
        "\n",
        "    objective = cp.Minimize(production_cost.T@produce + senario_prob.T@v)\n",
        "\n",
        "    problem = cp.Problem(objective, constraints)\n",
        "    problem.solve()\n",
        "\n",
        "    return problem"
      ]
    },
    {
      "cell_type": "code",
      "execution_count": 20,
      "metadata": {
        "colab": {
          "base_uri": "https://localhost:8080/",
          "height": 0
        },
        "id": "nCqxsPPHtUJA",
        "outputId": "8bfae6a6-8ef4-4747-b955-95051c66f9dc"
      },
      "outputs": [
        {
          "output_type": "stream",
          "name": "stdout",
          "text": [
            "\n",
            "----------Iteration no.  1--------------------\n",
            "\n",
            "production is [[299.99999989]\n",
            " [299.99999992]]\n",
            "\n",
            "objctive value is -1727.7034315843757\n",
            "\n",
            "\n",
            "----------Iteration no.  2--------------------\n",
            "\n",
            "production is [[120.00000283]\n",
            " [299.99999952]]\n",
            "\n",
            "objctive value is -1609.9999916085671\n",
            "\n",
            "Terminating condition satisfied !\n"
          ]
        }
      ],
      "source": [
        "g_ks = []\n",
        "alpha_ks = []\n",
        "senario = 27\n",
        "objctive_values  = [np.nan]\n",
        "epsilon = 10**(-4)\n",
        "iter = 0\n",
        "while True:\n",
        "\n",
        "    # Solve Second stage problem for each demand and store its duals and objective values\n",
        "    duals = []\n",
        "    objs= []\n",
        "    for demand in all_demand:\n",
        "\n",
        "        second_stage_sol = solve_second_stage_problem(produce,demand,shipping_cost)\n",
        "\n",
        "        temp_dual = second_stage_sol.constraints[0].dual_value   # Take the duals of 1st contraint\n",
        "        temp_obj = second_stage_sol.value                        # Take the objective value of second stage problem\n",
        "\n",
        "        # Store duals and objective values for each senario\n",
        "        duals.append(temp_dual)\n",
        "        objs.append(temp_obj)\n",
        "\n",
        "     # Reshaping the values\n",
        "    duals = np.array(duals).reshape(-1,2)\n",
        "    objs = np.array(objs).reshape(-1,1)\n",
        "\n",
        "    gks_batch = []\n",
        "    alpha_ks_batch = []\n",
        "\n",
        "    for i in range(0,senario):\n",
        "        gks_batch.append(-duals[i])\n",
        "        alpha_ks_batch.append(objs[i]+duals[i].T@produce)\n",
        "\n",
        "    g_ks.append(gks_batch)\n",
        "    alpha_ks.append(alpha_ks_batch)\n",
        "\n",
        "    first_stage_sol = solve_master_problem_ml(produce,g_ks,alpha_ks,senario_prob,production_cost,produce_limit)\n",
        "    obj_value = first_stage_sol.value\n",
        "    new_produce = first_stage_sol.var_dict[\"produce\"].value\n",
        "    new_limit = first_stage_sol.var_dict[\"value\"].value\n",
        "\n",
        "    if np.abs(obj_value - objctive_values[-1])<= epsilon:\n",
        "        print(\"Terminating condition satisfied !\")\n",
        "        break\n",
        "\n",
        "    else:\n",
        "        pass\n",
        "\n",
        "    objctive_values.append(obj_value)\n",
        "    produce,limit = new_produce,new_limit # swap the values\n",
        "    iter = iter+1\n",
        "\n",
        "    print(f\"\\n----------Iteration no.  {iter}--------------------\")\n",
        "    print(f\"\\nproduction is {produce}\")\n",
        "    print(f\"\\nobjctive value is {first_stage_sol.value}\\n\")\n"
      ]
    },
    {
      "cell_type": "code",
      "execution_count": 21,
      "metadata": {
        "colab": {
          "base_uri": "https://localhost:8080/",
          "height": 0
        },
        "id": "5cguQ-H-tUJA",
        "outputId": "66c20583-5797-4803-b8b3-f7cce5654d59"
      },
      "outputs": [
        {
          "output_type": "stream",
          "name": "stdout",
          "text": [
            "----- Results using Multicut Method----\n",
            "\n",
            "production is [[120.00000283]\n",
            " [299.99999952]]\n",
            "\n",
            "objctive value is -1609.999988313576\n",
            "\n"
          ]
        }
      ],
      "source": [
        "\n",
        "print(\"----- Results using Multicut Method----\")\n",
        "print(f\"\\nproduction is {produce}\")\n",
        "print(f\"\\nobjctive value is {first_stage_sol.value}\\n\")"
      ]
    },
    {
      "cell_type": "code",
      "execution_count": 36,
      "metadata": {
        "id": "AxtNCASitUJA"
      },
      "outputs": [],
      "source": [
        "\n"
      ]
    }
  ],
  "metadata": {
    "kernelspec": {
      "display_name": ".venv",
      "language": "python",
      "name": "python3"
    },
    "language_info": {
      "codemirror_mode": {
        "name": "ipython",
        "version": 3
      },
      "file_extension": ".py",
      "mimetype": "text/x-python",
      "name": "python",
      "nbconvert_exporter": "python",
      "pygments_lexer": "ipython3",
      "version": "3.10.11"
    },
    "colab": {
      "provenance": []
    }
  },
  "nbformat": 4,
  "nbformat_minor": 0
}