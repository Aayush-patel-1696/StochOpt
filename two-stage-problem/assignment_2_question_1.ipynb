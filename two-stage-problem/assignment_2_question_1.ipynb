{
 "cells": [
  {
   "cell_type": "code",
   "execution_count": 1,
   "metadata": {},
   "outputs": [],
   "source": [
    "import cvxpy as cp\n",
    "import numpy as np\n",
    "from itertools import product"
   ]
  },
  {
   "cell_type": "markdown",
   "metadata": {},
   "source": [
    "## Data of the Problem"
   ]
  },
  {
   "cell_type": "code",
   "execution_count": 3,
   "metadata": {},
   "outputs": [],
   "source": [
    "shipping_cost = np.array([[1,3,2],[3,2,2]]).reshape(2,3) \n",
    "production_cost = np.array([11,10]).reshape(2,1)\n",
    "given_demand = np.array([[100,150,120],[120,180,150],[150,200,180]]).reshape(3,3)\n",
    "selling_price = np.array([[16,16]]).reshape(2,1)\n",
    "produce = np.array([100,200]).reshape(2,1)\n",
    "produce_limit = np.array([300,300]).reshape(2,1)\n",
    "senario = 27\n",
    "senario_prob = (1/senario)*(np.ones((senario,1)))"
   ]
  },
  {
   "cell_type": "markdown",
   "metadata": {},
   "source": [
    "## Senario generation of the demand"
   ]
  },
  {
   "cell_type": "code",
   "execution_count": 4,
   "metadata": {},
   "outputs": [],
   "source": [
    "senario = given_demand.T\n",
    "senario_comb = []\n",
    "index = np.arange(0,3)\n",
    "index_permute = product(index,repeat=3)\n",
    "for i in index_permute:\n",
    "    temp_array =[]\n",
    "    for j in range(0,3):\n",
    "        temp_array.append(float(senario[j,:][i[j]]))\n",
    "    senario_comb.append(temp_array)\n",
    "all_demand = np.array(senario_comb).reshape(27,3)"
   ]
  },
  {
   "cell_type": "markdown",
   "metadata": {},
   "source": [
    "## Question 1.3 Solve large scale problem combining all senarios into one problem"
   ]
  },
  {
   "cell_type": "markdown",
   "metadata": {},
   "source": [
    "## Large scale problem solution"
   ]
  },
  {
   "cell_type": "code",
   "execution_count": 15,
   "metadata": {},
   "outputs": [
    {
     "data": {
      "text/plain": [
       "-1609.9999997418313"
      ]
     },
     "execution_count": 15,
     "metadata": {},
     "output_type": "execute_result"
    }
   ],
   "source": [
    "produce = cp.Variable(shape=(2,1))\n",
    "sell = cp.Variable(shape=(54,3))\n",
    "salvage = cp.Variable(shape=(54,1))\n",
    "produce_limit = np.array([300,300]).reshape(2,1)\n",
    "\n",
    "ls_constraints_senario = []\n",
    "for index,demand in enumerate(all_demand):\n",
    "    i = index*2\n",
    "    ls_constraints_senario.append(cp.sum(sell[i:i+2,:],axis=1,keepdims=True) +salvage[i:i+2,:] <= produce)\n",
    "    ls_constraints_senario.append(cp.sum(sell[i:i+2,:],axis=0,keepdims=True) <= demand.reshape(1,-1))\n",
    "    \n",
    "   \n",
    "ls_constraints = [produce>=0,produce<=produce_limit,sell>= np.zeros_like(sell),salvage>= np.zeros_like(salvage)]\n",
    "ls_constraints.extend(ls_constraints_senario)\n",
    "\n",
    "\n",
    "ls_objective = cp.Minimize((production_cost.T@produce)-(16/27)*cp.sum(sell,keepdims=True) + (1/27)*cp.trace(((((np.repeat([shipping_cost],27,axis=0).reshape(-1,3))@(sell.T))))))\n",
    "ls_problem = cp.Problem(ls_objective, ls_constraints)\n",
    "ls_problem.solve()"
   ]
  },
  {
   "cell_type": "code",
   "execution_count": 16,
   "metadata": {},
   "outputs": [
    {
     "name": "stdout",
     "output_type": "stream",
     "text": [
      "----Large Scale formulation results----\n",
      "Optimal Production plan   [[120.00000002]\n",
      " [299.99999999]]\n",
      "Optimal Value of the Problem -1609.9999997418313\n"
     ]
    }
   ],
   "source": [
    "print(\"----Large Scale formulation results----\")\n",
    "print(\"Optimal Production plan  \", produce.value)\n",
    "print(\"Optimal Value of the Problem\",ls_problem.value)"
   ]
  },
  {
   "cell_type": "markdown",
   "metadata": {},
   "source": [
    "# Expected value of demand"
   ]
  },
  {
   "cell_type": "code",
   "execution_count": 23,
   "metadata": {},
   "outputs": [],
   "source": [
    "expected_demand = np.mean(all_demand,axis=0)"
   ]
  },
  {
   "cell_type": "code",
   "execution_count": 24,
   "metadata": {},
   "outputs": [
    {
     "data": {
      "text/plain": [
       "-1773.3333279947847"
      ]
     },
     "execution_count": 24,
     "metadata": {},
     "output_type": "execute_result"
    }
   ],
   "source": [
    "produce = cp.Variable(shape=(2,1))\n",
    "sell = cp.Variable(shape=(2,3))\n",
    "salvage = cp.Variable(shape=(2,1))\n",
    "produce_limit = np.array([300,300]).reshape(2,1)\n",
    "\n",
    "ed_constraints_senario = []\n",
    "ed_constraints_senario.append(cp.sum(sell,axis=1,keepdims=True) +salvage <= produce)\n",
    "ed_constraints_senario.append(cp.sum(sell,axis=0,keepdims=True) <= expected_demand.reshape(1,-1))\n",
    "    \n",
    "\n",
    "ed_constraints = [produce>=0,produce<=produce_limit,sell>= np.zeros_like(sell),salvage>= np.zeros_like(salvage)]\n",
    "ed_constraints.extend(ed_constraints_senario)\n",
    "\n",
    "ed_objective = cp.Minimize((production_cost.T@produce)-(16)*cp.sum(sell,keepdims=True) + (1)*cp.trace(((((np.repeat([shipping_cost],1,axis=0).reshape(-1,3))@(sell.T))))))\n",
    "ed_problem = cp.Problem(ed_objective, ed_constraints)\n",
    "ed_problem.solve()\n"
   ]
  },
  {
   "cell_type": "code",
   "execution_count": 25,
   "metadata": {},
   "outputs": [
    {
     "name": "stdout",
     "output_type": "stream",
     "text": [
      "----- Results using deterministic expected demand----\n",
      "\n",
      "Optimal Production plan using [[150.0000002 ]\n",
      " [299.99999937]]\n",
      "\n",
      "Optimal Value of the Problem -1773.3333279947847\n"
     ]
    }
   ],
   "source": [
    "print(\"----- Results using deterministic expected demand----\")\n",
    "print(\"\\nOptimal Production plan using\",produce.value)\n",
    "print(\"\\nOptimal Value of the Problem\",ed_problem.value)"
   ]
  },
  {
   "cell_type": "markdown",
   "metadata": {},
   "source": [
    "# Q-1.4 \n",
    "# Solving problem treating each demand individually"
   ]
  },
  {
   "cell_type": "code",
   "execution_count": 27,
   "metadata": {},
   "outputs": [],
   "source": [
    "produce_over_scenario = []\n",
    "objective_over_scenario = []\n",
    "for demand in all_demand:\n",
    "    produce = cp.Variable(shape=(2,1))\n",
    "    sell = cp.Variable(shape=(2,3))\n",
    "    salvage = cp.Variable(shape=(2,1))\n",
    "    produce_limit = np.array([300,300]).reshape(2,1)\n",
    "\n",
    "    constraints_senario = []\n",
    "    constraints_senario.append(cp.sum(sell,axis=1,keepdims=True) +salvage <= produce)\n",
    "    constraints_senario.append(cp.sum(sell,axis=0,keepdims=True) <= demand.reshape(1,-1))\n",
    "        \n",
    "    \n",
    "    constraints = [produce>=0,produce<=produce_limit,sell>= np.zeros_like(sell),salvage>= np.zeros_like(salvage)]\n",
    "    constraints.extend(constraints_senario)\n",
    "\n",
    "\n",
    "    objective = cp.Minimize((production_cost.T@produce)-(16)*cp.sum(sell,keepdims=True) + (1)*cp.trace(((((np.repeat([shipping_cost],1,axis=0).reshape(-1,3))@(sell.T))))))\n",
    "    problem = cp.Problem(objective, constraints)\n",
    "    problem.solve()\n",
    "    \n",
    "    produce_over_scenario.append(produce.value)\n",
    "    objective_over_scenario.append(problem.value)\n"
   ]
  },
  {
   "cell_type": "markdown",
   "metadata": {},
   "source": [
    "# Calculating value of perfect information"
   ]
  },
  {
   "cell_type": "code",
   "execution_count": 28,
   "metadata": {},
   "outputs": [
    {
     "name": "stdout",
     "output_type": "stream",
     "text": [
      "Value of value of perfect information  159.9999967386409\n"
     ]
    }
   ],
   "source": [
    "produce_over_scenario = np.array(produce_over_scenario).reshape(27,2)\n",
    "objective_over_scenario = np.array(objective_over_scenario).reshape(27,1)\n",
    "value_of_perfect_info = ls_problem.value - np.mean(objective_over_scenario)\n",
    "\n",
    "print(\"Value of value of perfect information \",value_of_perfect_info)"
   ]
  },
  {
   "cell_type": "markdown",
   "metadata": {},
   "source": [
    "# Q 1.5\n",
    "# Solve the scenario formulation with nonanticipativity constraints."
   ]
  },
  {
   "cell_type": "code",
   "execution_count": 30,
   "metadata": {},
   "outputs": [
    {
     "data": {
      "text/plain": [
       "-1609.9999999266336"
      ]
     },
     "execution_count": 30,
     "metadata": {},
     "output_type": "execute_result"
    }
   ],
   "source": [
    "produce = cp.Variable(shape=(2,27))\n",
    "sell = cp.Variable(shape=(54,3))\n",
    "salvage = cp.Variable(shape=(54,1))\n",
    "produce_limit = (np.array([300,300]).reshape(2,1))\n",
    "produce_limit_ext = np.repeat([produce_limit],27,axis=0).reshape(2,27)\n",
    "\n",
    "na_constraints = []\n",
    "\n",
    "# Nonanticipativity constraints\n",
    "for index,demand in enumerate(all_demand):\n",
    "    na_constraints.append(cp.reshape(produce[:,index],shape=(2,1))==(1/27)*cp.sum(produce,axis=1,keepdims=True))\n",
    "\n",
    "\n",
    "for index,demand in enumerate(all_demand):\n",
    "    i = index*2\n",
    "    na_constraints.append(cp.sum(sell[i:i+2,:],axis=1,keepdims=True) +salvage[i:i+2,:] <= cp.reshape(produce[:,index],shape=(2,1)))\n",
    "    na_constraints.append(cp.sum(sell[i:i+2,:],axis=0,keepdims=True) <= demand.reshape(1,-1))\n",
    "    \n",
    "   \n",
    "constraints = [produce>=0,produce<=produce_limit,sell>= np.zeros_like(sell),salvage>= np.zeros_like(salvage)]\n",
    "na_constraints.extend(constraints)\n",
    "\n",
    "\n",
    "na_objective = cp.Minimize((1/27)*cp.sum(production_cost.T@produce)-(16/27)*cp.sum(sell,keepdims=True) + (1/27)*cp.trace(((((np.repeat([shipping_cost],27,axis=0).reshape(-1,3))@(sell.T))))))\n",
    "na_problem = cp.Problem(na_objective, na_constraints)\n",
    "na_problem.solve()"
   ]
  },
  {
   "cell_type": "code",
   "execution_count": 32,
   "metadata": {},
   "outputs": [
    {
     "name": "stdout",
     "output_type": "stream",
     "text": [
      "----- Results using nonanticipativity ----\n",
      "\n",
      "Optimal Production plan using [[120.00000001 120.00000001 120.00000001 120.00000001 120.00000001\n",
      "  120.00000001 120.00000001 120.00000001 120.00000001 120.00000001\n",
      "  120.00000001 120.00000001 120.00000001 120.00000001 120.00000001\n",
      "  120.00000001 120.00000001 120.00000001 120.00000001 120.00000001\n",
      "  120.00000001 120.00000001 120.00000001 120.00000001 120.00000001\n",
      "  120.00000001 120.00000001]\n",
      " [299.99999999 299.99999999 299.99999999 299.99999999 299.99999999\n",
      "  299.99999999 299.99999999 299.99999999 299.99999999 299.99999999\n",
      "  299.99999999 299.99999999 299.99999999 299.99999999 299.99999999\n",
      "  299.99999999 299.99999999 299.99999999 299.99999999 299.99999999\n",
      "  299.99999999 299.99999999 299.99999999 299.99999999 299.99999999\n",
      "  299.99999999 299.99999999]]\n",
      "\n",
      "Optimal Value of the Problem -1609.9999999266336\n"
     ]
    }
   ],
   "source": [
    "print(\"----- Results using nonanticipativity ----\")\n",
    "print(\"\\nOptimal Production plan using\",produce.value)\n",
    "print(\"\\nOptimal Value of the Problem\",na_problem.value)"
   ]
  },
  {
   "cell_type": "markdown",
   "metadata": {},
   "source": [
    "# Q-1.6\n",
    "# Solve the problem by the cutting plane method in the basic version (Benders decomposition)"
   ]
  },
  {
   "cell_type": "code",
   "execution_count": 35,
   "metadata": {},
   "outputs": [],
   "source": [
    "def solve_second_stage_problem(produce,demand,shipping_cost):\n",
    "\n",
    "    sell = cp.Variable(shape=(2,3))\n",
    "    salvage = cp.Variable(shape=(2,1))\n",
    "    \n",
    "    objective = cp.Minimize(-16*cp.sum(sell,keepdims=True) + cp.trace((((shipping_cost@(sell.T))))))\n",
    "    constraints = [cp.sum(sell,axis=1,keepdims=True) +salvage <= produce,cp.sum(sell,axis=0,keepdims=True) <= demand.reshape(1,-1), sell>= np.zeros_like(sell),salvage>= np.zeros_like(salvage)]\n",
    "\n",
    "    problem = cp.Problem(objective, constraints)\n",
    "    problem.solve()\n",
    "\n",
    "    return problem\n",
    "\n",
    "\n",
    "def solve_master_problem(produce,produce_limit,g_ks,alpha_ks): \n",
    "\n",
    "    production_cost = np.array([11,10]).reshape(2,1)\n",
    "    produce  = cp.Variable(shape=(2,1),name=\"produce\")\n",
    "    v = cp.Variable(shape=(1,1),name=\"value\")\n",
    "   \n",
    "    constraints = []\n",
    "    for i in range(0,len(g_ks)):\n",
    "        constraints.append(np.array(g_ks[i]).T@produce+np.array(alpha_ks[i])<=v)\n",
    "\n",
    "    constraints.extend([produce>=0,v>=-100000,produce<=produce_limit])\n",
    "\n",
    "    objective = cp.Minimize(production_cost.T@produce + v)\n",
    "\n",
    "    problem = cp.Problem(objective, constraints)\n",
    "    problem.solve()\n",
    "\n",
    "    return problem"
   ]
  },
  {
   "cell_type": "code",
   "execution_count": 37,
   "metadata": {},
   "outputs": [
    {
     "name": "stdout",
     "output_type": "stream",
     "text": [
      "\n",
      "----------Iteration no.  1--------------------\n",
      "\n",
      "production is [[300.00000004]\n",
      " [299.99999992]]\n",
      "\n",
      "objctive value is -2351.895943550797\n",
      "\n",
      "\n",
      "----------Iteration no.  2--------------------\n",
      "\n",
      "production is [[149.00805118]\n",
      " [299.9999992 ]]\n",
      "\n",
      "objctive value is -1784.2447749212179\n",
      "\n",
      "\n",
      "----------Iteration no.  3--------------------\n",
      "\n",
      "production is [[112.70470909]\n",
      " [300.00000003]]\n",
      "\n",
      "objctive value is -1647.7631011106232\n",
      "\n",
      "\n",
      "----------Iteration no.  4--------------------\n",
      "\n",
      "production is [[125.23365091]\n",
      " [299.99999495]]\n",
      "\n",
      "objctive value is -1618.5289057328064\n",
      "\n",
      "\n",
      "----------Iteration no.  5--------------------\n",
      "\n",
      "production is [[119.99999869]\n",
      " [299.99999991]]\n",
      "\n",
      "objctive value is -1609.9999959895367\n",
      "\n",
      "Terminating condition satisfied !\n"
     ]
    }
   ],
   "source": [
    "produce = np.array([100,200]).reshape(2,1)  # Initial Guess\n",
    "g_ks = []\n",
    "alpha_ks = []\n",
    "\n",
    "objctive_values  = [np.nan]\n",
    "epsilon = 10**(-4)\n",
    "iter = 0\n",
    "\n",
    "while True:\n",
    "\n",
    "    # Solve Second stage problem for each demand and store its duals and objective values\n",
    "    duals = []\n",
    "    objs= []\n",
    "    for demand in all_demand:\n",
    "\n",
    "        second_stage_sol = solve_second_stage_problem(produce,demand,shipping_cost)\n",
    "\n",
    "        temp_dual = second_stage_sol.constraints[0].dual_value   # Take the duals of 1st contraint\n",
    "        temp_obj = second_stage_sol.value                        # Take the objective value of second stage problem\n",
    "\n",
    "        # Store duals and objective values for each senario\n",
    "        duals.append(temp_dual) \n",
    "        objs.append(temp_obj)\n",
    "\n",
    "    # Reshaping the values \n",
    "    duals = np.array(duals).reshape(-1,2)\n",
    "    objs = np.array(objs).reshape(-1,1)\n",
    "\n",
    "    g_ks_temp = (-senario_prob.T@duals).T\n",
    "    alpha_ks_temp = senario_prob.T@objs - g_ks_temp.T@produce\n",
    "\n",
    "    g_ks.append(g_ks_temp)\n",
    "    alpha_ks.append(alpha_ks_temp)\n",
    "\n",
    "    first_stage_sol = solve_master_problem(produce,produce_limit,g_ks,alpha_ks)\n",
    "    obj_value = first_stage_sol.value\n",
    "    new_produce = first_stage_sol.var_dict[\"produce\"].value\n",
    "    new_limit = first_stage_sol.var_dict[\"value\"].value\n",
    "\n",
    "    if np.abs(obj_value - objctive_values[-1])<= epsilon:\n",
    "        print(\"Terminating condition satisfied !\")\n",
    "        break\n",
    "    else:\n",
    "        pass\n",
    "\n",
    "    objctive_values.append(obj_value)\n",
    "    produce,limit = new_produce,new_limit # swap the values\n",
    "    iter = iter+1\n",
    "    \n",
    "    print(f\"\\n----------Iteration no.  {iter}--------------------\")\n",
    "    print(f\"\\nproduction is {produce}\")\n",
    "    print(f\"\\nobjctive value is {first_stage_sol.value}\\n\")\n"
   ]
  },
  {
   "cell_type": "code",
   "execution_count": 38,
   "metadata": {},
   "outputs": [
    {
     "name": "stdout",
     "output_type": "stream",
     "text": [
      "----- Results using Bender Decompostion ----\n",
      "\n",
      "production is [[119.99999869]\n",
      " [299.99999991]]\n",
      "\n",
      "objctive value is -1609.9999957406962\n",
      "\n"
     ]
    }
   ],
   "source": [
    "\n",
    "print(\"----- Results using Bender Decompostion ----\")\n",
    "print(f\"\\nproduction is {produce}\")\n",
    "print(f\"\\nobjctive value is {first_stage_sol.value}\\n\")\n"
   ]
  },
  {
   "cell_type": "markdown",
   "metadata": {},
   "source": [
    "# Q-1.7 (Solve the problem by the multicut method)"
   ]
  },
  {
   "cell_type": "code",
   "execution_count": 43,
   "metadata": {},
   "outputs": [],
   "source": [
    "def solve_master_problem_ml(produce,g_ks,alpha_ks,senario_prob,production_cost,produce_limit): \n",
    "\n",
    "    \n",
    "    produce  = cp.Variable(shape=(2,1),name=\"produce\")\n",
    "    v = cp.Variable(shape=(len(senario_prob),1),name=\"value\")\n",
    "\n",
    "    constraints = []\n",
    "    for i in range(0,len(g_ks)):\n",
    "        for j in range(0,len(g_ks[i])):\n",
    "            constraints.append(np.array([g_ks[i][j]])@produce+np.array([alpha_ks[i][j]])<=v[j])\n",
    "\n",
    "    constraints.extend([produce>=0,v>=-100000,produce<=produce_limit])\n",
    "\n",
    "    objective = cp.Minimize(production_cost.T@produce + senario_prob.T@v)\n",
    "\n",
    "    problem = cp.Problem(objective, constraints)\n",
    "    problem.solve()\n",
    "\n",
    "    return problem"
   ]
  },
  {
   "cell_type": "code",
   "execution_count": 44,
   "metadata": {},
   "outputs": [
    {
     "name": "stdout",
     "output_type": "stream",
     "text": [
      "\n",
      "----------Iteration no.  1--------------------\n",
      "\n",
      "production is [[2.08263498e-07]\n",
      " [3.00000000e+02]]\n",
      "\n",
      "objctive value is -1631.4069540777623\n",
      "\n",
      "\n",
      "----------Iteration no.  2--------------------\n",
      "\n",
      "production is [[109.90281815]\n",
      " [299.99999997]]\n",
      "\n",
      "objctive value is -1611.8012447991287\n",
      "\n",
      "\n",
      "----------Iteration no.  3--------------------\n",
      "\n",
      "production is [[120.00000172]\n",
      " [299.99999982]]\n",
      "\n",
      "objctive value is -1609.9999935684118\n",
      "\n",
      "Terminating condition satisfied !\n"
     ]
    }
   ],
   "source": [
    "g_ks = []\n",
    "alpha_ks = []\n",
    "senario = 27\n",
    "objctive_values  = [np.nan]\n",
    "epsilon = 10**(-4)\n",
    "iter = 0\n",
    "while True:\n",
    "\n",
    "    # Solve Second stage problem for each demand and store its duals and objective values\n",
    "    duals = []\n",
    "    objs= []\n",
    "    for demand in all_demand:\n",
    "\n",
    "        second_stage_sol = solve_second_stage_problem(produce,demand,shipping_cost)\n",
    "\n",
    "        temp_dual = second_stage_sol.constraints[0].dual_value   # Take the duals of 1st contraint\n",
    "        temp_obj = second_stage_sol.value                        # Take the objective value of second stage problem\n",
    "\n",
    "        # Store duals and objective values for each senario\n",
    "        duals.append(temp_dual) \n",
    "        objs.append(temp_obj)\n",
    "\n",
    "     # Reshaping the values \n",
    "    duals = np.array(duals).reshape(-1,2)\n",
    "    objs = np.array(objs).reshape(-1,1)\n",
    "\n",
    "    gks_batch = []\n",
    "    alpha_ks_batch = []\n",
    "\n",
    "    for i in range(0,senario):\n",
    "        gks_batch.append(-duals[i])\n",
    "        alpha_ks_batch.append(objs[i]+duals[i].T@produce)\n",
    "  \n",
    "    g_ks.append(gks_batch)\n",
    "    alpha_ks.append(alpha_ks_batch)\n",
    "\n",
    "    first_stage_sol = solve_master_problem_ml(produce,g_ks,alpha_ks,senario_prob,production_cost,produce_limit)\n",
    "    obj_value = first_stage_sol.value\n",
    "    new_produce = first_stage_sol.var_dict[\"produce\"].value\n",
    "    new_limit = first_stage_sol.var_dict[\"value\"].value\n",
    "\n",
    "    if np.abs(obj_value - objctive_values[-1])<= epsilon:\n",
    "        print(\"Terminating condition satisfied !\")\n",
    "        break\n",
    "       \n",
    "    else:\n",
    "        pass\n",
    "\n",
    "    objctive_values.append(obj_value)\n",
    "    produce,limit = new_produce,new_limit # swap the values\n",
    "    iter = iter+1\n",
    "    \n",
    "    print(f\"\\n----------Iteration no.  {iter}--------------------\")\n",
    "    print(f\"\\nproduction is {produce}\")\n",
    "    print(f\"\\nobjctive value is {first_stage_sol.value}\\n\")\n"
   ]
  },
  {
   "cell_type": "code",
   "execution_count": 46,
   "metadata": {},
   "outputs": [
    {
     "name": "stdout",
     "output_type": "stream",
     "text": [
      "----- Results using Multicut Method----\n",
      "\n",
      "production is [[120.00000172]\n",
      " [299.99999982]]\n",
      "\n",
      "objctive value is -1609.9999916636561\n",
      "\n"
     ]
    }
   ],
   "source": [
    "\n",
    "print(\"----- Results using Multicut Method----\")\n",
    "print(f\"\\nproduction is {produce}\")\n",
    "print(f\"\\nobjctive value is {first_stage_sol.value}\\n\")"
   ]
  },
  {
   "cell_type": "code",
   "execution_count": null,
   "metadata": {},
   "outputs": [],
   "source": []
  }
 ],
 "metadata": {
  "kernelspec": {
   "display_name": ".venv",
   "language": "python",
   "name": "python3"
  },
  "language_info": {
   "codemirror_mode": {
    "name": "ipython",
    "version": 3
   },
   "file_extension": ".py",
   "mimetype": "text/x-python",
   "name": "python",
   "nbconvert_exporter": "python",
   "pygments_lexer": "ipython3",
   "version": "3.10.11"
  }
 },
 "nbformat": 4,
 "nbformat_minor": 2
}
