{
 "cells": [
  {
   "cell_type": "code",
   "execution_count": 4,
   "metadata": {},
   "outputs": [],
   "source": [
    "import cvxpy as cp\n",
    "import numpy as np\n",
    "from itertools import product"
   ]
  },
  {
   "cell_type": "code",
   "execution_count": 5,
   "metadata": {},
   "outputs": [],
   "source": [
    "shipping_cost = np.array([[1,3,2],[3,2,2]]).reshape(2,3)\n",
    "all_demand = np.array([[100,150,120],[120,180,150],[150,200,180]]).reshape(3,3)\n",
    "selling_price = np.array([[16,16]]).reshape(2,1)\n",
    "produce = np.array([100,200]).reshape(2,1)\n",
    "production_cost = np.array([11,10]).reshape(2,1)"
   ]
  },
  {
   "cell_type": "code",
   "execution_count": 6,
   "metadata": {},
   "outputs": [],
   "source": [
    "senario = np.array([[100,120,150],\n",
    "       [150,180,200],[120,150,180]])\n",
    "senario_comb = []\n",
    "index = np.arange(0,3)\n",
    "index_permute = product(index,repeat=3)\n",
    "for i in index_permute:\n",
    "    temp_array =[]\n",
    "    for j in range(0,3):\n",
    "        temp_array.append(float(senario[j,:][i[j]]))\n",
    "    senario_comb.append(temp_array)\n",
    "all_demand = np.array(senario_comb).reshape(27,3)"
   ]
  },
  {
   "cell_type": "code",
   "execution_count": 31,
   "metadata": {},
   "outputs": [],
   "source": [
    "produce_over_scenario = []\n",
    "objective_over_scenario = []\n",
    "for demand in all_demand:\n",
    "    produce = cp.Variable(shape=(2,1))\n",
    "    sell = cp.Variable(shape=(2,3))\n",
    "    salvage = cp.Variable(shape=(2,1))\n",
    "    produce_limit = np.array([300,300]).reshape(2,1)\n",
    "\n",
    "    constraints_senario = []\n",
    "    constraints_senario.append(cp.sum(sell,axis=1,keepdims=True) +salvage <= produce)\n",
    "    constraints_senario.append(cp.sum(sell,axis=0,keepdims=True) <= demand.reshape(1,-1))\n",
    "        \n",
    "    \n",
    "    constraints = [produce>=0,produce<=produce_limit,sell>= np.zeros_like(sell),salvage>= np.zeros_like(salvage)]\n",
    "    constraints.extend(constraints_senario)\n",
    "\n",
    "\n",
    "    objective = cp.Minimize((production_cost.T@produce)-(16)*cp.sum(sell,keepdims=True) + (1)*cp.trace(((((np.repeat([shipping_cost],1,axis=0).reshape(-1,3))@(sell.T))))))\n",
    "    problem = cp.Problem(objective, constraints)\n",
    "    problem.solve()\n",
    "    produce_over_scenario.append(produce.value)\n",
    "    objective_over_scenario.append(problem.value)"
   ]
  },
  {
   "cell_type": "markdown",
   "metadata": {},
   "source": []
  },
  {
   "cell_type": "code",
   "execution_count": 16,
   "metadata": {},
   "outputs": [],
   "source": [
    "produce_over_scenario = np.array(produce_over_scenario).reshape(27,2)"
   ]
  },
  {
   "cell_type": "code",
   "execution_count": 32,
   "metadata": {},
   "outputs": [],
   "source": [
    "objective_over_scenario = np.array(objective_over_scenario).reshape(27,1)"
   ]
  },
  {
   "cell_type": "code",
   "execution_count": 33,
   "metadata": {},
   "outputs": [
    {
     "name": "stdout",
     "output_type": "stream",
     "text": [
      "159.9999967386409\n"
     ]
    }
   ],
   "source": [
    "value_of_imprfction = -1609.9999997418313 - np.mean(objective_over_scenario)"
   ]
  },
  {
   "cell_type": "code",
   "execution_count": null,
   "metadata": {},
   "outputs": [],
   "source": []
  }
 ],
 "metadata": {
  "kernelspec": {
   "display_name": ".venv",
   "language": "python",
   "name": "python3"
  },
  "language_info": {
   "codemirror_mode": {
    "name": "ipython",
    "version": 3
   },
   "file_extension": ".py",
   "mimetype": "text/x-python",
   "name": "python",
   "nbconvert_exporter": "python",
   "pygments_lexer": "ipython3",
   "version": "3.10.11"
  }
 },
 "nbformat": 4,
 "nbformat_minor": 2
}
