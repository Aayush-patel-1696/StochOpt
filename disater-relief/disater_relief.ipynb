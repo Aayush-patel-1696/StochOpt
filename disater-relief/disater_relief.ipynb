{
 "cells": [
  {
   "cell_type": "code",
   "execution_count": 92,
   "metadata": {},
   "outputs": [],
   "source": [
    "import scipy\n",
    "import numpy as np\n",
    "from itertools import product"
   ]
  },
  {
   "cell_type": "code",
   "execution_count": 121,
   "metadata": {},
   "outputs": [],
   "source": [
    "shipping_cost = np.array([[1,3],[3,2],[2,2]]).reshape(3,2)\n",
    "production_cost = np.array([6,5]).reshape(1,2)\n",
    "given_demand = np.array([[50,60,75],[75,90,100],[60,75,90]]).reshape(3,3)\n",
    "produce_limit = np.array([250,250]).reshape(2,1)\n",
    "senario = 2700\n",
    "senario_prob = (1/senario)*(np.ones((senario,1)))"
   ]
  },
  {
   "cell_type": "code",
   "execution_count": 122,
   "metadata": {},
   "outputs": [],
   "source": [
    "products = (list(product(range(3),repeat=3)))\n",
    "senarios = [[given_demand[i][j]  for i,j in enumerate(pro)] for pro in products]"
   ]
  },
  {
   "cell_type": "code",
   "execution_count": 123,
   "metadata": {},
   "outputs": [],
   "source": [
    "destruct_senarios = np.random.binomial(1,0.3,(100,3,2))\n",
    "destruct_units = np.where(destruct_senarios == 1, 0.5, 1)"
   ]
  },
  {
   "cell_type": "code",
   "execution_count": 124,
   "metadata": {},
   "outputs": [],
   "source": [
    "# Create shortfall matrix \n",
    "#shortfall = -1*np.eye((100*27*3,100*27*3))\n",
    "shortfall = -1*np.eye((100*27*3))\n",
    "\n",
    "#create empty numpy array\n",
    "array = np.array([])\n",
    "demand_array = np.array([])\n",
    "\n",
    "for demand in senarios:\n",
    "    for destruct in destruct_units:\n",
    "        transport_mat = np.zeros((3,6))\n",
    "\n",
    "        for ind,i in enumerate(demand):\n",
    "            transport_mat[ind,2*ind] = -1*destruct[ind][0]\n",
    "            transport_mat[ind,2*ind+1] = -1*destruct[ind][1]\n",
    "            demand_array =  np.append(demand_array,-1*i)\n",
    "\n",
    "        array = np.append(array,transport_mat)\n",
    "array = array.reshape(100*27*3,6)"
   ]
  },
  {
   "cell_type": "code",
   "execution_count": 125,
   "metadata": {},
   "outputs": [],
   "source": [
    "obj =[]\n",
    "bound = []\n",
    "\n"
   ]
  },
  {
   "cell_type": "code",
   "execution_count": 126,
   "metadata": {},
   "outputs": [],
   "source": [
    "for i in production_cost:\n",
    "    obj.extend(i)\n",
    "\n",
    "for i in produce_limit:\n",
    "    bound.append([0,i[0]])"
   ]
  },
  {
   "cell_type": "code",
   "execution_count": 127,
   "metadata": {},
   "outputs": [
    {
     "data": {
      "text/plain": [
       "[[0, np.int64(250)], [0, np.int64(250)]]"
      ]
     },
     "execution_count": 127,
     "metadata": {},
     "output_type": "execute_result"
    }
   ],
   "source": [
    "bound"
   ]
  },
  {
   "cell_type": "code",
   "execution_count": 128,
   "metadata": {},
   "outputs": [
    {
     "data": {
      "text/plain": [
       "[np.int64(6), np.int64(5)]"
      ]
     },
     "execution_count": 128,
     "metadata": {},
     "output_type": "execute_result"
    }
   ],
   "source": [
    "obj"
   ]
  },
  {
   "cell_type": "code",
   "execution_count": 101,
   "metadata": {},
   "outputs": [],
   "source": [
    "for i in shipping_cost:\n",
    "    for j in i:\n",
    "        obj.extend([j])\n",
    "        bound.append([0,250])\n",
    "\n",
    "for i in range(3*27*100):\n",
    "    obj.extend([40/2700])\n",
    "    bound.append([0,float(\"inf\")])"
   ]
  },
  {
   "cell_type": "code",
   "execution_count": 102,
   "metadata": {},
   "outputs": [],
   "source": [
    "# Create 2,2 diagonal matrix with ones\n",
    "C = -1*np.eye(2)\n",
    "\n",
    "B=  np.repeat(np.eye(2),3,axis=1)\n",
    "\n",
    "D = np.zeros((2,100*27*3))"
   ]
  },
  {
   "cell_type": "code",
   "execution_count": 103,
   "metadata": {},
   "outputs": [
    {
     "data": {
      "text/plain": [
       "array([[-1., -0.],\n",
       "       [-0., -1.]])"
      ]
     },
     "execution_count": 103,
     "metadata": {},
     "output_type": "execute_result"
    }
   ],
   "source": [
    "C"
   ]
  },
  {
   "cell_type": "code",
   "execution_count": 104,
   "metadata": {},
   "outputs": [
    {
     "data": {
      "text/plain": [
       "array([[1., 1., 1., 0., 0., 0.],\n",
       "       [0., 0., 0., 1., 1., 1.]])"
      ]
     },
     "execution_count": 104,
     "metadata": {},
     "output_type": "execute_result"
    }
   ],
   "source": [
    "B"
   ]
  },
  {
   "cell_type": "code",
   "execution_count": 105,
   "metadata": {},
   "outputs": [],
   "source": [
    "F = np.concatenate((C,B,D),axis=1)"
   ]
  },
  {
   "cell_type": "code",
   "execution_count": 106,
   "metadata": {},
   "outputs": [],
   "source": [
    "G = np.zeros((2,1))"
   ]
  },
  {
   "cell_type": "code",
   "execution_count": 107,
   "metadata": {},
   "outputs": [],
   "source": [
    "c = -1*np.eye((2))"
   ]
  },
  {
   "cell_type": "code",
   "execution_count": 108,
   "metadata": {},
   "outputs": [
    {
     "data": {
      "text/plain": [
       "array([1, 3])"
      ]
     },
     "execution_count": 108,
     "metadata": {},
     "output_type": "execute_result"
    }
   ],
   "source": [
    "shipping_cost[0]"
   ]
  },
  {
   "cell_type": "code",
   "execution_count": 109,
   "metadata": {},
   "outputs": [],
   "source": [
    "# A_eq = np.zeros((2,len(obj)))\n",
    "# b_eq = np.zeros((2,1))\n",
    "\n",
    "# A_eq[0][0] = 1\n",
    "# A_eq[0][1] = 1\n",
    "\n",
    "# b_eq[0] = 250\n",
    "# b_eq[1] = 250"
   ]
  },
  {
   "cell_type": "code",
   "execution_count": 110,
   "metadata": {},
   "outputs": [],
   "source": [
    "zeros = np.zeros((100*27*3,2))"
   ]
  },
  {
   "cell_type": "code",
   "execution_count": 111,
   "metadata": {},
   "outputs": [],
   "source": [
    "A_ub = np.concatenate((zeros,array,shortfall),axis=1)"
   ]
  },
  {
   "cell_type": "code",
   "execution_count": 112,
   "metadata": {},
   "outputs": [],
   "source": [
    "demand_array = demand_array.reshape(100*27*3,1)"
   ]
  },
  {
   "cell_type": "code",
   "execution_count": 113,
   "metadata": {},
   "outputs": [],
   "source": [
    "A_ub = np.concatenate((A_ub,F),axis=0)\n",
    "demand_array = np.concatenate((demand_array,G),axis=0)"
   ]
  },
  {
   "cell_type": "code",
   "execution_count": 138,
   "metadata": {},
   "outputs": [
    {
     "name": "stdout",
     "output_type": "stream",
     "text": [
      "[np.float64(0.0), np.float64(0.0), np.float64(0.0), np.float64(0.0), np.float64(0.0), np.float64(0.0), np.float64(-1.0), np.float64(-1.0), np.float64(-0.0)]\n"
     ]
    }
   ],
   "source": [
    "print(list(A_ub[5][0:9]))"
   ]
  },
  {
   "cell_type": "code",
   "execution_count": 115,
   "metadata": {},
   "outputs": [],
   "source": [
    "opt = scipy.optimize.linprog(c=obj, A_ub=A_ub, b_ub=demand_array,bounds=bound,method=\"highs\")"
   ]
  },
  {
   "cell_type": "code",
   "execution_count": 117,
   "metadata": {},
   "outputs": [
    {
     "data": {
      "text/plain": [
       "        message: Optimization terminated successfully. (HiGHS Status 7: Optimal)\n",
       "        success: True\n",
       "         status: 0\n",
       "            fun: 2718.666666666642\n",
       "              x: [ 1.133e+02  1.833e+02 ...  4.167e+01  0.000e+00]\n",
       "            nit: 3745\n",
       "          lower:  residual: [ 1.133e+02  1.833e+02 ...  4.167e+01\n",
       "                              0.000e+00]\n",
       "                 marginals: [ 0.000e+00  0.000e+00 ...  0.000e+00\n",
       "                              1.481e-02]\n",
       "          upper:  residual: [ 1.367e+02  6.667e+01 ...        inf\n",
       "                                    inf]\n",
       "                 marginals: [ 0.000e+00  0.000e+00 ...  0.000e+00\n",
       "                              0.000e+00]\n",
       "          eqlin:  residual: []\n",
       "                 marginals: []\n",
       "        ineqlin:  residual: [ 3.000e+01  4.167e+01 ...  0.000e+00\n",
       "                              0.000e+00]\n",
       "                 marginals: [-0.000e+00 -0.000e+00 ... -6.000e+00\n",
       "                             -5.000e+00]\n",
       " mip_node_count: 0\n",
       " mip_dual_bound: 0.0\n",
       "        mip_gap: 0.0"
      ]
     },
     "execution_count": 117,
     "metadata": {},
     "output_type": "execute_result"
    }
   ],
   "source": [
    "opt"
   ]
  },
  {
   "cell_type": "code",
   "execution_count": 215,
   "metadata": {},
   "outputs": [
    {
     "data": {
      "text/plain": [
       "[(0, inf),\n",
       " (0, inf),\n",
       " (0, inf),\n",
       " (0, inf),\n",
       " (0, inf),\n",
       " (0, inf),\n",
       " (0, inf),\n",
       " (0, inf),\n",
       " (0, inf),\n",
       " (0, inf)]"
      ]
     },
     "execution_count": 215,
     "metadata": {},
     "output_type": "execute_result"
    }
   ],
   "source": [
    "bound[-10:]"
   ]
  },
  {
   "cell_type": "code",
   "execution_count": 120,
   "metadata": {},
   "outputs": [
    {
     "data": {
      "text/plain": [
       "array([113.33333333, 183.33333333,  40.        ,  40.        ,\n",
       "        33.33333333,  83.33333333,  50.        ,  50.        ,\n",
       "         0.        ,   0.        ])"
      ]
     },
     "execution_count": 120,
     "metadata": {},
     "output_type": "execute_result"
    }
   ],
   "source": [
    "opt.x[0:10]"
   ]
  },
  {
   "cell_type": "code",
   "execution_count": 20,
   "metadata": {},
   "outputs": [
    {
     "data": {
      "text/plain": [
       "array([-0., -0.,  0., ...,  0.,  0.,  0.])"
      ]
     },
     "execution_count": 20,
     "metadata": {},
     "output_type": "execute_result"
    }
   ],
   "source": [
    "opt.x"
   ]
  },
  {
   "cell_type": "code",
   "execution_count": 91,
   "metadata": {},
   "outputs": [
    {
     "data": {
      "text/plain": [
       "array([-0., -0.])"
      ]
     },
     "execution_count": 91,
     "metadata": {},
     "output_type": "execute_result"
    }
   ],
   "source": [
    "opt.x[0:2]"
   ]
  },
  {
   "cell_type": "code",
   "execution_count": 21,
   "metadata": {},
   "outputs": [
    {
     "data": {
      "text/plain": [
       "        message: Optimization terminated successfully. (HiGHS Status 7: Optimal)\n",
       "        success: True\n",
       "         status: 0\n",
       "            fun: 0.037037037037037035\n",
       "              x: [-0.000e+00 -0.000e+00 ...  0.000e+00  0.000e+00]\n",
       "            nit: 0\n",
       "          lower:  residual: [-0.000e+00 -0.000e+00 ...  0.000e+00\n",
       "                              0.000e+00]\n",
       "                 marginals: [ 0.000e+00  0.000e+00 ...  0.000e+00\n",
       "                              0.000e+00]\n",
       "          upper:  residual: [ 2.500e+02  2.500e+02 ...        inf\n",
       "                                    inf]\n",
       "                 marginals: [ 0.000e+00  0.000e+00 ...  0.000e+00\n",
       "                              0.000e+00]\n",
       "          eqlin:  residual: []\n",
       "                 marginals: []\n",
       "        ineqlin:  residual: [ 5.000e+01  2.500e+01 ...  0.000e+00\n",
       "                              0.000e+00]\n",
       "                 marginals: [-0.000e+00 -0.000e+00 ... -6.000e+00\n",
       "                             -5.000e+00]\n",
       " mip_node_count: 0\n",
       " mip_dual_bound: 0.0\n",
       "        mip_gap: 0.0"
      ]
     },
     "execution_count": 21,
     "metadata": {},
     "output_type": "execute_result"
    }
   ],
   "source": [
    "opt"
   ]
  },
  {
   "cell_type": "code",
   "execution_count": null,
   "metadata": {},
   "outputs": [],
   "source": []
  }
 ],
 "metadata": {
  "kernelspec": {
   "display_name": ".venv",
   "language": "python",
   "name": "python3"
  },
  "language_info": {
   "codemirror_mode": {
    "name": "ipython",
    "version": 3
   },
   "file_extension": ".py",
   "mimetype": "text/x-python",
   "name": "python",
   "nbconvert_exporter": "python",
   "pygments_lexer": "ipython3",
   "version": "3.10.11"
  }
 },
 "nbformat": 4,
 "nbformat_minor": 2
}
