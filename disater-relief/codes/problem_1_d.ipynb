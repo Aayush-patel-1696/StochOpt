{
 "cells": [
  {
   "cell_type": "code",
   "execution_count": 1,
   "metadata": {},
   "outputs": [],
   "source": [
    "import scipy\n",
    "import numpy as np\n",
    "from itertools import product\n",
    "from matplotlib import pyplot as plt\n",
    "from scipy.optimize import LinearConstraint, Bounds"
   ]
  },
  {
   "cell_type": "code",
   "execution_count": 2,
   "metadata": {},
   "outputs": [],
   "source": [
    "shipping_cost = np.array([[1,3],[3,2],[2,2]]).reshape(3,2)\n",
    "production_cost = np.array([6,5]).reshape(1,2)\n",
    "given_demand = np.array([[50,60,75],[75,90,100],[60,75,90]]).reshape(3,3)\n",
    "produce_limit = np.array([250,250]).reshape(2,1)"
   ]
  },
  {
   "cell_type": "code",
   "execution_count": 3,
   "metadata": {},
   "outputs": [],
   "source": [
    "Gamma = 1\n",
    "# Gamma = 2"
   ]
  },
  {
   "cell_type": "code",
   "execution_count": 4,
   "metadata": {},
   "outputs": [],
   "source": [
    "products = (list(product(range(3),repeat=3)))\n",
    "senarios = [[given_demand[i][j]  for i,j in enumerate(pro)] for pro in products]\n",
    "\n",
    "destruct_senarios = np.random.binomial(1,0.3,(1,3,2))\n",
    "destruct_units = np.where(destruct_senarios == 1, 0.5, 1)\n",
    "\n",
    "num_senario = len(senarios)\n",
    "num_dest_senario = len(destruct_senarios)\n",
    "\n",
    "#create empty numpy array\n",
    "Resource_lft = np.array([])\n",
    "demand_array = np.array([])\n",
    "\n",
    "for demand in senarios:\n",
    "    for destruct in destruct_units:\n",
    "        transport_mat = np.zeros((3,6))\n",
    "\n",
    "        for ind,i in enumerate(demand):\n",
    "            transport_mat[ind,2*ind] = destruct[ind][0]\n",
    "            transport_mat[ind,2*ind+1] = destruct[ind][1]\n",
    "            demand_array =  np.append(demand_array,i)\n",
    "\n",
    "        Resource_lft = np.append(Resource_lft,transport_mat)\n",
    "Resource_lft = Resource_lft.reshape(num_dest_senario*num_senario*3,6)\n",
    "\n",
    "\n",
    "# Shortfall Matrix \n",
    "Shortfall_lft = np.eye(num_senario*num_dest_senario*3)\n",
    "\n",
    "# Allocation Matrix\n",
    "Resource_lft = Resource_lft.reshape(num_dest_senario*num_senario*3,6)\n",
    "\n",
    "# Demand Matrix\n",
    "demand_rgt = demand_array.reshape(num_dest_senario*num_senario*3,1)\n",
    "\n",
    "# Production Matrix\n",
    "Production_lft = np.repeat([[0,0],[0,0],[0,0]],num_dest_senario*num_senario,axis=0)\n",
    "\n",
    "# Constraint Matrix\n",
    "A1_ub = -1*np.concatenate((Production_lft,Resource_lft,Shortfall_lft),axis=1)\n",
    "b1_ub = -1*demand_rgt\n",
    "\n",
    "# Balance Matrix\n",
    "Balance_lft = np.array([[-1,0,1,0,1,0,1,0],[0,-1,0,1,0,1,0,1]])\n",
    "Dummy_lft = np.zeros((2,len(Shortfall_lft)))\n",
    "\n",
    "# Concatenate\n",
    "A2_ub = np.concatenate((Balance_lft,Dummy_lft),axis=1)\n",
    "b2_ub = np.array([0,0]).reshape(2,1)\n",
    "\n",
    "A_combined = np.concatenate((A1_ub,A2_ub),axis=0)\n",
    "b_combined = np.concatenate((b1_ub,b2_ub),axis=0)\n",
    "\n",
    "A_ex= np.zeros((len(A_combined),num_senario*num_dest_senario))\n",
    "\n",
    "A_combined = np.concatenate((A_combined,A_ex),axis=1)\n"
   ]
  },
  {
   "cell_type": "code",
   "execution_count": 5,
   "metadata": {},
   "outputs": [
    {
     "data": {
      "text/plain": [
       "(81, 89)"
      ]
     },
     "execution_count": 5,
     "metadata": {},
     "output_type": "execute_result"
    }
   ],
   "source": [
    "A1_ub.shape"
   ]
  },
  {
   "cell_type": "code",
   "execution_count": 6,
   "metadata": {},
   "outputs": [
    {
     "data": {
      "text/plain": [
       "(2, 89)"
      ]
     },
     "execution_count": 6,
     "metadata": {},
     "output_type": "execute_result"
    }
   ],
   "source": [
    "A2_ub.shape"
   ]
  },
  {
   "cell_type": "code",
   "execution_count": 7,
   "metadata": {},
   "outputs": [
    {
     "data": {
      "text/plain": [
       "(83, 116)"
      ]
     },
     "execution_count": 7,
     "metadata": {},
     "output_type": "execute_result"
    }
   ],
   "source": [
    "A_combined.shape"
   ]
  },
  {
   "cell_type": "code",
   "execution_count": 8,
   "metadata": {},
   "outputs": [
    {
     "data": {
      "text/plain": [
       "(81, 89)"
      ]
     },
     "execution_count": 8,
     "metadata": {},
     "output_type": "execute_result"
    }
   ],
   "source": [
    "A1_ub.shape"
   ]
  },
  {
   "cell_type": "code",
   "execution_count": 9,
   "metadata": {},
   "outputs": [
    {
     "data": {
      "text/plain": [
       "array([[-1.,  0.,  1.,  0.,  1.,  0.,  1.,  0.,  0.,  0.,  0.,  0.,  0.,\n",
       "         0.,  0.,  0.,  0.,  0.,  0.,  0.,  0.,  0.,  0.,  0.,  0.,  0.,\n",
       "         0.,  0.,  0.,  0.,  0.,  0.,  0.,  0.,  0.,  0.,  0.,  0.,  0.,\n",
       "         0.,  0.,  0.,  0.,  0.,  0.,  0.,  0.,  0.,  0.,  0.,  0.,  0.,\n",
       "         0.,  0.,  0.,  0.,  0.,  0.,  0.,  0.,  0.,  0.,  0.,  0.,  0.,\n",
       "         0.,  0.,  0.,  0.,  0.,  0.,  0.,  0.,  0.,  0.,  0.,  0.,  0.,\n",
       "         0.,  0.,  0.,  0.,  0.,  0.,  0.,  0.,  0.,  0.,  0.,  0.,  0.,\n",
       "         0.,  0.,  0.,  0.,  0.,  0.,  0.,  0.,  0.,  0.,  0.,  0.,  0.,\n",
       "         0.,  0.,  0.,  0.,  0.,  0.,  0.,  0.,  0.,  0.,  0.,  0.],\n",
       "       [ 0., -1.,  0.,  1.,  0.,  1.,  0.,  1.,  0.,  0.,  0.,  0.,  0.,\n",
       "         0.,  0.,  0.,  0.,  0.,  0.,  0.,  0.,  0.,  0.,  0.,  0.,  0.,\n",
       "         0.,  0.,  0.,  0.,  0.,  0.,  0.,  0.,  0.,  0.,  0.,  0.,  0.,\n",
       "         0.,  0.,  0.,  0.,  0.,  0.,  0.,  0.,  0.,  0.,  0.,  0.,  0.,\n",
       "         0.,  0.,  0.,  0.,  0.,  0.,  0.,  0.,  0.,  0.,  0.,  0.,  0.,\n",
       "         0.,  0.,  0.,  0.,  0.,  0.,  0.,  0.,  0.,  0.,  0.,  0.,  0.,\n",
       "         0.,  0.,  0.,  0.,  0.,  0.,  0.,  0.,  0.,  0.,  0.,  0.,  0.,\n",
       "         0.,  0.,  0.,  0.,  0.,  0.,  0.,  0.,  0.,  0.,  0.,  0.,  0.,\n",
       "         0.,  0.,  0.,  0.,  0.,  0.,  0.,  0.,  0.,  0.,  0.,  0.]])"
      ]
     },
     "execution_count": 9,
     "metadata": {},
     "output_type": "execute_result"
    }
   ],
   "source": [
    "A_combined[-2:]"
   ]
  },
  {
   "cell_type": "code",
   "execution_count": 10,
   "metadata": {},
   "outputs": [
    {
     "data": {
      "text/plain": [
       "array([[-0. , -0. , -0.5, ...,  0. ,  0. ,  0. ],\n",
       "       [-0. , -0. , -0. , ...,  0. ,  0. ,  0. ],\n",
       "       [-0. , -0. , -0. , ...,  0. ,  0. ,  0. ],\n",
       "       ...,\n",
       "       [-0. , -0. , -0. , ...,  0. ,  0. ,  0. ],\n",
       "       [-1. ,  0. ,  1. , ...,  0. ,  0. ,  0. ],\n",
       "       [ 0. , -1. ,  0. , ...,  0. ,  0. ,  0. ]])"
      ]
     },
     "execution_count": 10,
     "metadata": {},
     "output_type": "execute_result"
    }
   ],
   "source": [
    "A_combined"
   ]
  },
  {
   "cell_type": "code",
   "execution_count": 11,
   "metadata": {},
   "outputs": [],
   "source": [
    "new_row =[]\n",
    "for i in production_cost:\n",
    "    new_row.extend(i)\n",
    "\n",
    "for i in shipping_cost:\n",
    "    for j in i:\n",
    "        new_row.extend([j])\n",
    "\n",
    "deploy_move_cost = np.repeat([new_row],num_senario*num_dest_senario,axis=0)\n",
    "\n",
    "new_unstatisfied_demand_costs = np.kron(40*np.eye(num_dest_senario*num_senario, dtype=int), np.ones((1, 3), dtype=int))\n",
    "\n",
    "overall_cost = -1*np.eye(num_senario*num_dest_senario)\n",
    "\n",
    "A3_ub = np.concatenate((deploy_move_cost,new_unstatisfied_demand_costs,overall_cost),axis=1)\n",
    "b3_ub = np.zeros(len(A3_ub)).reshape(-1,1)"
   ]
  },
  {
   "cell_type": "code",
   "execution_count": 12,
   "metadata": {},
   "outputs": [
    {
     "name": "stdout",
     "output_type": "stream",
     "text": [
      "(27, 116)\n"
     ]
    }
   ],
   "source": [
    "print(A3_ub.shape)"
   ]
  },
  {
   "cell_type": "code",
   "execution_count": 13,
   "metadata": {},
   "outputs": [
    {
     "name": "stdout",
     "output_type": "stream",
     "text": [
      "[[ 6.  5.  1. ... -0. -0. -0.]\n",
      " [ 6.  5.  1. ... -0. -0. -0.]\n",
      " [ 6.  5.  1. ... -0. -0. -0.]\n",
      " ...\n",
      " [ 6.  5.  1. ... -1. -0. -0.]\n",
      " [ 6.  5.  1. ... -0. -1. -0.]\n",
      " [ 6.  5.  1. ... -0. -0. -1.]]\n"
     ]
    }
   ],
   "source": [
    "print(A3_ub)"
   ]
  },
  {
   "cell_type": "code",
   "execution_count": 14,
   "metadata": {},
   "outputs": [],
   "source": [
    "A_ub = np.concatenate((A_combined,A3_ub),axis=0)\n",
    "b_ub = np.concatenate((b_combined,b3_ub),axis=0)"
   ]
  },
  {
   "cell_type": "code",
   "execution_count": 15,
   "metadata": {},
   "outputs": [
    {
     "data": {
      "text/plain": [
       "array([ 6.,  5.,  1.,  3.,  3.,  2.,  2.,  2., 40., 40., 40.,  0.,  0.,\n",
       "        0.,  0.,  0.,  0.,  0.,  0.,  0.,  0.,  0.,  0.,  0.,  0.,  0.,\n",
       "        0.,  0.,  0.,  0.,  0.,  0.,  0.,  0.,  0.,  0.,  0.,  0.,  0.,\n",
       "        0.,  0.,  0.,  0.,  0.,  0.,  0.,  0.,  0.,  0.,  0.,  0.,  0.,\n",
       "        0.,  0.,  0.,  0.,  0.,  0.,  0.,  0.,  0.,  0.,  0.,  0.,  0.,\n",
       "        0.,  0.,  0.,  0.,  0.,  0.,  0.,  0.,  0.,  0.,  0.,  0.,  0.,\n",
       "        0.,  0.,  0.,  0.,  0.,  0.,  0.,  0.,  0.,  0.,  0., -1., -0.,\n",
       "       -0., -0., -0., -0., -0., -0., -0., -0., -0., -0., -0., -0., -0.,\n",
       "       -0., -0., -0., -0., -0., -0., -0., -0., -0., -0., -0., -0.])"
      ]
     },
     "execution_count": 15,
     "metadata": {},
     "output_type": "execute_result"
    }
   ],
   "source": [
    "A3_ub[0]"
   ]
  },
  {
   "cell_type": "code",
   "execution_count": 16,
   "metadata": {},
   "outputs": [
    {
     "data": {
      "text/plain": [
       "(27, 81)"
      ]
     },
     "execution_count": 16,
     "metadata": {},
     "output_type": "execute_result"
    }
   ],
   "source": [
    "new_unstatisfied_demand_costs.shape"
   ]
  },
  {
   "cell_type": "code",
   "execution_count": 17,
   "metadata": {},
   "outputs": [],
   "source": [
    "bounds = []\n",
    "\n",
    "for i in produce_limit:\n",
    "    bounds.append([0,i[0]])\n",
    "\n",
    "for i in shipping_cost:\n",
    "    for j in i:\n",
    "        bounds.append([0,250])\n",
    "\n",
    "for i in range(3*num_senario*num_dest_senario):\n",
    "    bounds.append([0,float(\"inf\")])\n",
    "\n",
    "for i in range(num_senario*num_dest_senario):\n",
    "\n",
    "    bounds.append([0,float(\"inf\")])"
   ]
  },
  {
   "cell_type": "code",
   "execution_count": 18,
   "metadata": {},
   "outputs": [],
   "source": [
    "def utility_val(x):             # calculates the value and the gradient of the expected utility function\n",
    "    \n",
    "    # utility function realizations, will be used for Hessian calculations\n",
    "\n",
    "    length = len(x)-num_dest_senario*num_senario\n",
    "    \n",
    "    Realizations = np.exp(Gamma*x[-num_dest_senario*num_senario:])\n",
    "    val = sum(Realizations)/num_dest_senario*num_senario\n",
    "    gradient = (Gamma/num_dest_senario*num_senario) * Realizations\n",
    "    gradient = np.append(np.zeros(length),gradient,axis=0)\n",
    "    return (val,gradient)\n",
    "         \n",
    "def utility_Hp(x,p):            # returns Hessian of the expected utility function multiplied by a vector p\n",
    "                                # this is easy because the Hessian is diagonal\n",
    "    Realizations = np.exp(Gamma*x[-num_dest_senario*num_senario:])\n",
    "    Hp =  Realizations * p[-num_dest_senario*num_senario:] * (Gamma**2/num_dest_senario*num_senario)\n",
    "    length = len(x)-num_dest_senario*num_senario\n",
    "    Hp = np.append(np.zeros(length),Hp,axis=0)\n",
    "    return Hp"
   ]
  },
  {
   "cell_type": "code",
   "execution_count": 19,
   "metadata": {},
   "outputs": [],
   "source": [
    "l_ub = np.full((len(b_ub),),0.0)\n",
    "l_ub[-num_dest_senario*num_senario-2:-num_dest_senario*num_senario] = -np.inf"
   ]
  },
  {
   "cell_type": "code",
   "execution_count": 20,
   "metadata": {},
   "outputs": [
    {
     "data": {
      "text/plain": [
       "2"
      ]
     },
     "execution_count": 20,
     "metadata": {},
     "output_type": "execute_result"
    }
   ],
   "source": [
    "len(l_ub[(-num_dest_senario*num_senario) -2:-num_dest_senario*num_senario])"
   ]
  },
  {
   "cell_type": "code",
   "execution_count": 21,
   "metadata": {},
   "outputs": [],
   "source": [
    "constraints = LinearConstraint(A_ub, l_ub.reshape(-1), b_ub.reshape(-1))\n",
    "bounds = Bounds(np.array(bounds)[:,0], np.array(bounds)[:,1])"
   ]
  },
  {
   "cell_type": "code",
   "execution_count": 22,
   "metadata": {},
   "outputs": [],
   "source": [
    "z0 = np.zeros((len(A_ub[0])))"
   ]
  },
  {
   "cell_type": "code",
   "execution_count": 23,
   "metadata": {},
   "outputs": [
    {
     "data": {
      "text/plain": [
       "116"
      ]
     },
     "execution_count": 23,
     "metadata": {},
     "output_type": "execute_result"
    }
   ],
   "source": [
    "len(z0)"
   ]
  },
  {
   "cell_type": "code",
   "execution_count": 24,
   "metadata": {},
   "outputs": [
    {
     "name": "stderr",
     "output_type": "stream",
     "text": [
      "c:\\Users\\aayus\\Documents\\GitHub\\StochOpt\\.venv\\lib\\site-packages\\scipy\\optimize\\_trustregion_constr\\equality_constrained_sqp.py:217: UserWarning: Singular Jacobian matrix. Using SVD decomposition to perform the factorizations.\n",
      "  Z, LS, Y = projections(A, factorization_method)\n"
     ]
    },
    {
     "name": "stdout",
     "output_type": "stream",
     "text": [
      "The maximum number of function evaluations is exceeded.\n",
      "Number of iterations: 500, function evaluations: 500, CG iterations: 1011, optimality: 1.23e-02, constraint violation: 6.84e+01, execution time: 1.2e+02 s.\n"
     ]
    }
   ],
   "source": [
    "SolutionVec = scipy.optimize.minimize(utility_val, z0, method='trust-constr', jac=True, hessp=utility_Hp,\n",
    "               constraints = constraints, options={'verbose': 1,'maxiter': 500}, bounds=bounds)"
   ]
  },
  {
   "cell_type": "code",
   "execution_count": 25,
   "metadata": {},
   "outputs": [
    {
     "data": {
      "text/plain": [
       "array([-5.39273101, -3.23206765, 10.64292524,  6.32383044, 14.65754286,\n",
       "       17.965146  , 13.41132126, 14.53247021, -0.67236334, -1.04831498,\n",
       "       -1.18569166, -0.71122968, -1.11092549, -1.00729005, -1.05022113,\n",
       "       -1.03400978, -0.79934772, -0.75947293, -0.94914577, -1.18738694,\n",
       "       -0.96284141, -1.12696252, -0.89765751, -0.8189641 , -1.3523178 ,\n",
       "       -0.77258581, -1.05131037, -0.83073342, -1.0109963 , -0.99734398,\n",
       "       -0.77728111, -1.18578777, -1.48736952, -0.75427116, -0.66142751,\n",
       "       -0.38871785, -1.26570357, -1.257252  , -0.59648784, -1.09584973,\n",
       "       -1.20484548, -0.78497997, -1.26889182, -0.85789138, -0.42680759,\n",
       "       -1.17495826, -1.24580644, -0.63512009, -0.8087322 , -1.48896608,\n",
       "       -0.77514863, -1.05929841, -1.10022761, -1.141246  , -0.82839187,\n",
       "       -0.93234627, -1.29421083, -0.44462904, -1.13673613, -1.12211306,\n",
       "       -0.90694116, -0.8437028 , -0.29647517, -1.18683668, -1.39996335,\n",
       "       -0.38776113, -1.41082582, -1.11072094, -0.69526587, -1.33405421,\n",
       "       -0.88776396, -0.12510933, -1.40935035, -1.39357942, -0.471665  ,\n",
       "       -0.91957072, -1.51351518, -0.93297162, -0.84968435, -1.15227287,\n",
       "       -0.31924273, -1.0490984 , -1.51128692, -1.22095325, -0.56451775,\n",
       "       -1.13264303, -1.08265159, -0.724351  , -1.10264601, -0.69333508,\n",
       "       -1.10984452, -1.04715026, -1.05973537, -1.14378326, -1.13627623,\n",
       "       -1.05355394, -1.03486673, -1.02066488, -1.03404135, -1.02517477,\n",
       "       -1.04286834, -1.03225392, -1.03862804, -1.03917414, -1.03721597,\n",
       "       -1.09017439, -1.01625603, -0.69098867, -1.03725119, -1.04501398,\n",
       "       -1.03584824, -1.03909053, -1.04319456, -1.05072496, -1.07575236,\n",
       "       -1.05029131])"
      ]
     },
     "execution_count": 25,
     "metadata": {},
     "output_type": "execute_result"
    }
   ],
   "source": [
    "SolutionVec.x"
   ]
  },
  {
   "cell_type": "code",
   "execution_count": 26,
   "metadata": {},
   "outputs": [
    {
     "data": {
      "text/plain": [
       "(110, 1)"
      ]
     },
     "execution_count": 26,
     "metadata": {},
     "output_type": "execute_result"
    }
   ],
   "source": [
    "b_ub.shape"
   ]
  }
 ],
 "metadata": {
  "kernelspec": {
   "display_name": ".venv",
   "language": "python",
   "name": "python3"
  },
  "language_info": {
   "codemirror_mode": {
    "name": "ipython",
    "version": 3
   },
   "file_extension": ".py",
   "mimetype": "text/x-python",
   "name": "python",
   "nbconvert_exporter": "python",
   "pygments_lexer": "ipython3",
   "version": "3.10.11"
  }
 },
 "nbformat": 4,
 "nbformat_minor": 2
}
