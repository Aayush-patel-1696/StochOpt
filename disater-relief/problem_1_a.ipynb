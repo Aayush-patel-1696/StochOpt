{
 "cells": [
  {
   "cell_type": "code",
   "execution_count": 1,
   "metadata": {},
   "outputs": [],
   "source": [
    "import scipy\n",
    "import numpy as np\n",
    "from itertools import product"
   ]
  },
  {
   "cell_type": "code",
   "execution_count": 2,
   "metadata": {},
   "outputs": [],
   "source": [
    "shipping_cost = np.array([[1,3],[3,2],[2,2]]).reshape(3,2)\n",
    "production_cost = np.array([6,5]).reshape(1,2)\n",
    "given_demand = np.array([[50,60,75],[75,90,100],[60,75,90]]).reshape(3,3)\n",
    "produce_limit = np.array([250,250]).reshape(2,1)"
   ]
  },
  {
   "cell_type": "code",
   "execution_count": 3,
   "metadata": {},
   "outputs": [],
   "source": [
    "num_senario = 1\n",
    "num_dest_senario = 1"
   ]
  },
  {
   "cell_type": "code",
   "execution_count": 4,
   "metadata": {},
   "outputs": [],
   "source": [
    "# Shortfall Matrix \n",
    "Shortfall_lft = np.eye(num_senario*num_dest_senario*3)\n",
    "\n",
    "# Allocation Matrix\n",
    "Resource_lft = 0.5*np.repeat([[1,1,0,0,0,0],[0,0,1,1,0,0],[0,0,0,0,1,1]],1,axis=0)\n",
    "\n",
    "# Demand Matrix\n",
    "demand_rgt = np.array([75,100,90]).reshape(3,1)\n",
    "\n",
    "# Production Matrix\n",
    "Production_lft = np.repeat([[0,0],[0,0],[0,0]],1,axis=0)\n",
    "\n",
    "# Constraint Matrix\n",
    "A1_ub = -1*np.concatenate((Production_lft,Resource_lft,Shortfall_lft),axis=1)\n",
    "b1_ub = -1*demand_rgt"
   ]
  },
  {
   "cell_type": "code",
   "execution_count": 5,
   "metadata": {},
   "outputs": [],
   "source": [
    "# Balance Matrix\n",
    "Balance_lft = np.array([[-1,0,1,0,1,0,1,0],[0,-1,0,1,0,1,0,1]])\n",
    "Dummy_lft = np.zeros((2,len(Shortfall_lft)))\n",
    "\n",
    "# Concatenate\n",
    "A2_ub = np.concatenate((Balance_lft,Dummy_lft),axis=1)\n",
    "b2_ub = np.array([0,0]).reshape(2,1)"
   ]
  },
  {
   "cell_type": "code",
   "execution_count": 6,
   "metadata": {},
   "outputs": [],
   "source": [
    "A_ub = np.concatenate((A1_ub,A2_ub),axis=0)\n",
    "b_ub = np.concatenate((b1_ub,b2_ub),axis=0)"
   ]
  },
  {
   "cell_type": "code",
   "execution_count": 7,
   "metadata": {},
   "outputs": [],
   "source": [
    "obj =[]\n",
    "bound = []\n",
    "\n",
    "for i in production_cost:\n",
    "    obj.extend(i)\n",
    "\n",
    "for i in produce_limit:\n",
    "    bound.append([0,i[0]])\n",
    "\n",
    "for i in shipping_cost:\n",
    "    for j in i:\n",
    "        obj.extend([j])\n",
    "        bound.append([0,250])\n",
    "\n",
    "for i in range(3*num_senario*num_dest_senario):\n",
    "    obj.extend([40/num_dest_senario*num_senario])\n",
    "    bound.append([0,float(\"inf\")])"
   ]
  },
  {
   "cell_type": "code",
   "execution_count": 8,
   "metadata": {},
   "outputs": [],
   "source": [
    "obj = scipy.optimize.linprog(c=obj, A_ub=A_ub, b_ub=b_ub, bounds=bound, method='highs')"
   ]
  },
  {
   "cell_type": "code",
   "execution_count": 9,
   "metadata": {},
   "outputs": [
    {
     "data": {
      "text/plain": [
       "        message: Optimization terminated successfully. (HiGHS Status 7: Optimal)\n",
       "        success: True\n",
       "         status: 0\n",
       "            fun: 4200.0\n",
       "              x: [ 2.500e+02  2.500e+02  1.500e+02  0.000e+00  0.000e+00\n",
       "                   1.700e+02  1.000e+02  8.000e+01  0.000e+00  1.500e+01\n",
       "                   0.000e+00]\n",
       "            nit: 7\n",
       "          lower:  residual: [ 2.500e+02  2.500e+02  1.500e+02  0.000e+00\n",
       "                              0.000e+00  1.700e+02  1.000e+02  8.000e+01\n",
       "                              0.000e+00  1.500e+01  0.000e+00]\n",
       "                 marginals: [ 0.000e+00  0.000e+00  0.000e+00  2.000e+00\n",
       "                              1.000e+00  0.000e+00  0.000e+00  0.000e+00\n",
       "                              2.000e+00  0.000e+00  0.000e+00]\n",
       "          upper:  residual: [ 0.000e+00  0.000e+00  1.000e+02  2.500e+02\n",
       "                              2.500e+02  8.000e+01  1.500e+02  1.700e+02\n",
       "                                    inf        inf        inf]\n",
       "                 marginals: [-1.200e+01 -1.300e+01  0.000e+00  0.000e+00\n",
       "                              0.000e+00  0.000e+00  0.000e+00  0.000e+00\n",
       "                              0.000e+00  0.000e+00  0.000e+00]\n",
       "          eqlin:  residual: []\n",
       "                 marginals: []\n",
       "        ineqlin:  residual: [ 0.000e+00  0.000e+00  0.000e+00  0.000e+00\n",
       "                              0.000e+00]\n",
       "                 marginals: [-3.800e+01 -4.000e+01 -4.000e+01 -1.800e+01\n",
       "                             -1.800e+01]\n",
       " mip_node_count: 0\n",
       " mip_dual_bound: 0.0\n",
       "        mip_gap: 0.0"
      ]
     },
     "execution_count": 9,
     "metadata": {},
     "output_type": "execute_result"
    }
   ],
   "source": [
    "obj"
   ]
  },
  {
   "cell_type": "code",
   "execution_count": null,
   "metadata": {},
   "outputs": [
    {
     "data": {
      "text/plain": [
       "array([250., 250., 150.,   0.,   0., 170., 100.,  80.,   0.,  15.,   0.])"
      ]
     },
     "execution_count": 90,
     "metadata": {},
     "output_type": "execute_result"
    }
   ],
   "source": [
    "obj.x[2:8] "
   ]
  },
  {
   "cell_type": "code",
   "execution_count": 91,
   "metadata": {},
   "outputs": [
    {
     "data": {
      "text/plain": [
       "array([150.,   0.,   0., 170., 100.,  80.])"
      ]
     },
     "execution_count": 91,
     "metadata": {},
     "output_type": "execute_result"
    }
   ],
   "source": [
    "obj.x[2:8]"
   ]
  },
  {
   "cell_type": "code",
   "execution_count": 94,
   "metadata": {},
   "outputs": [],
   "source": [
    "production = obj.x[:2]\n",
    "shipping_cost = obj.x[2:8]"
   ]
  },
  {
   "cell_type": "code",
   "execution_count": 93,
   "metadata": {},
   "outputs": [
    {
     "name": "stdout",
     "output_type": "stream",
     "text": [
      "Optimal Production:  [250. 250.]\n",
      "Optimal Shipping Cost:  [150.   0.   0. 170. 100.  80.]\n"
     ]
    }
   ],
   "source": [
    "print(\"Optimal Production: \", production)\n",
    "print(\"Optimal Shipping Cost: \", shipping_cost)"
   ]
  },
  {
   "cell_type": "code",
   "execution_count": 10,
   "metadata": {},
   "outputs": [
    {
     "data": {
      "text/plain": [
       "2750"
      ]
     },
     "execution_count": 10,
     "metadata": {},
     "output_type": "execute_result"
    }
   ],
   "source": [
    "250*6 + 250*5"
   ]
  },
  {
   "cell_type": "code",
   "execution_count": null,
   "metadata": {},
   "outputs": [],
   "source": []
  }
 ],
 "metadata": {
  "kernelspec": {
   "display_name": ".venv",
   "language": "python",
   "name": "python3"
  },
  "language_info": {
   "codemirror_mode": {
    "name": "ipython",
    "version": 3
   },
   "file_extension": ".py",
   "mimetype": "text/x-python",
   "name": "python",
   "nbconvert_exporter": "python",
   "pygments_lexer": "ipython3",
   "version": "3.10.11"
  }
 },
 "nbformat": 4,
 "nbformat_minor": 2
}
