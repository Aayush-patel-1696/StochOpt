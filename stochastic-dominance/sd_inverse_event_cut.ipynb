{
 "cells": [
  {
   "cell_type": "markdown",
   "metadata": {},
   "source": [
    "## Question 2: Inverse Cut Method"
   ]
  },
  {
   "cell_type": "code",
   "execution_count": 2,
   "metadata": {},
   "outputs": [],
   "source": [
    "import cvxpy as cp\n",
    "import numpy as np\n",
    "import pandas as pd"
   ]
  },
  {
   "cell_type": "code",
   "execution_count": 3,
   "metadata": {},
   "outputs": [],
   "source": [
    "# df = pd.read_excel(r'C:\\Users\\aayus\\Documents\\GitHub\\StochOpt\\stochastic-dominance\\returns_data.xlsx')\n",
    "# returns = df.iloc[:,1:].to_numpy()[1:]\n",
    "# print(returns)"
   ]
  },
  {
   "cell_type": "code",
   "execution_count": 4,
   "metadata": {},
   "outputs": [],
   "source": [
    "returns = np.array([[ 0.004, -0.025,  0.009,  0.012,  0.047, -0.019,  0.006, -0.037,\n",
    "         0.025,  0.021,  0.017,  0.019],\n",
    "       [ 0.014,  0.   , -0.039,  0.016, -0.006,  0.07 , -0.021, -0.022,\n",
    "         0.019,  0.025,  0.054,  0.04 ],\n",
    "       [ 0.001,  0.006,  0.005,  0.019,  0.016,  0.057, -0.052,  0.027,\n",
    "         0.039,  0.   ,  0.011,  0.002],\n",
    "       [-0.012, -0.021,  0.062,  0.036, -0.002, -0.038,  0.015, -0.003,\n",
    "         0.024,  0.012,  0.048, -0.007],\n",
    "       [-0.043,  0.005,  0.023,  0.   ,  0.023,  0.04 ,  0.034,  0.029,\n",
    "        -0.013, -0.04 ,  0.011,  0.003],\n",
    "       [ 0.015, -0.027, -0.01 , -0.027,  0.002,  0.038,  0.056, -0.004,\n",
    "         0.08 ,  0.001,  0.013,  0.026],\n",
    "       [-0.001,  0.011,  0.056, -0.024,  0.019, -0.048, -0.015,  0.019,\n",
    "         0.062,  0.023,  0.002, -0.017],\n",
    "       [ 0.039,  0.03 ,  0.003, -0.004,  0.016, -0.021,  0.003,  0.018,\n",
    "        -0.026, -0.022,  0.026,  0.073],\n",
    "       [ 0.017,  0.02 , -0.024, -0.004,  0.019,  0.039, -0.03 ,  0.025,\n",
    "         0.021,  0.054, -0.011,  0.056],\n",
    "       [ 0.108, -0.003,  0.061,  0.008,  0.024, -0.037, -0.013,  0.053,\n",
    "        -0.009, -0.021,  0.026, -0.009]])"
   ]
  },
  {
   "cell_type": "code",
   "execution_count": 5,
   "metadata": {},
   "outputs": [
    {
     "name": "stdout",
     "output_type": "stream",
     "text": [
      "mean [[0.00658333]\n",
      " [0.0125    ]\n",
      " [0.01091667]\n",
      " [0.0095    ]\n",
      " [0.006     ]\n",
      " [0.01358333]\n",
      " [0.00725   ]\n",
      " [0.01125   ]\n",
      " [0.01516667]\n",
      " [0.01566667]]\n"
     ]
    }
   ],
   "source": [
    "mean_returns= np.resize(returns.mean(axis=1),(10,1))\n",
    "print(\"mean\",mean_returns)"
   ]
  },
  {
   "cell_type": "code",
   "execution_count": 6,
   "metadata": {},
   "outputs": [],
   "source": [
    "assets = 10\n",
    "senarios = 12"
   ]
  },
  {
   "cell_type": "code",
   "execution_count": 7,
   "metadata": {},
   "outputs": [
    {
     "data": {
      "text/plain": [
       "array([[ 0.004, -0.025,  0.009,  0.012,  0.047, -0.019,  0.006, -0.037,\n",
       "         0.025,  0.021,  0.017,  0.019],\n",
       "       [ 0.014,  0.   , -0.039,  0.016, -0.006,  0.07 , -0.021, -0.022,\n",
       "         0.019,  0.025,  0.054,  0.04 ],\n",
       "       [ 0.001,  0.006,  0.005,  0.019,  0.016,  0.057, -0.052,  0.027,\n",
       "         0.039,  0.   ,  0.011,  0.002],\n",
       "       [-0.012, -0.021,  0.062,  0.036, -0.002, -0.038,  0.015, -0.003,\n",
       "         0.024,  0.012,  0.048, -0.007],\n",
       "       [-0.043,  0.005,  0.023,  0.   ,  0.023,  0.04 ,  0.034,  0.029,\n",
       "        -0.013, -0.04 ,  0.011,  0.003],\n",
       "       [ 0.015, -0.027, -0.01 , -0.027,  0.002,  0.038,  0.056, -0.004,\n",
       "         0.08 ,  0.001,  0.013,  0.026],\n",
       "       [-0.001,  0.011,  0.056, -0.024,  0.019, -0.048, -0.015,  0.019,\n",
       "         0.062,  0.023,  0.002, -0.017],\n",
       "       [ 0.039,  0.03 ,  0.003, -0.004,  0.016, -0.021,  0.003,  0.018,\n",
       "        -0.026, -0.022,  0.026,  0.073],\n",
       "       [ 0.017,  0.02 , -0.024, -0.004,  0.019,  0.039, -0.03 ,  0.025,\n",
       "         0.021,  0.054, -0.011,  0.056],\n",
       "       [ 0.108, -0.003,  0.061,  0.008,  0.024, -0.037, -0.013,  0.053,\n",
       "        -0.009, -0.021,  0.026, -0.009]])"
      ]
     },
     "execution_count": 7,
     "metadata": {},
     "output_type": "execute_result"
    }
   ],
   "source": [
    "returns"
   ]
  },
  {
   "cell_type": "code",
   "execution_count": 8,
   "metadata": {},
   "outputs": [],
   "source": [
    "# Calculate F(-2)(p)\n",
    "Y_weights = (1/assets)*(np.ones((assets,1)))\n",
    "Y_returns = np.sort(((returns.T)@Y_weights).flatten())\n",
    "F_2_inverse_y = []\n",
    "P_y = []\n",
    "for eta in Y_returns:\n",
    "    events = Y_returns<=eta \n",
    "    prob = np.count_nonzero(events)/len(events)\n",
    "    F_2_inverse_y_temp = prob*(1/np.count_nonzero(events))*(np.sum(Y_returns[events]))                   # Take care in case of non uniform probability\n",
    "    F_2_inverse_y.append(F_2_inverse_y_temp)\n",
    "    P_y.append(prob)\n"
   ]
  },
  {
   "cell_type": "code",
   "execution_count": 9,
   "metadata": {},
   "outputs": [],
   "source": [
    "F_inverse_y_dict = dict(zip(P_y,F_2_inverse_y))"
   ]
  },
  {
   "cell_type": "code",
   "execution_count": 10,
   "metadata": {},
   "outputs": [
    {
     "name": "stdout",
     "output_type": "stream",
     "text": [
      "violated events  [[5]]\n",
      "\n",
      "\n",
      "Iteration no.  1\n",
      "violated events  [[6]]\n",
      "\n",
      "\n",
      "Iteration no.  2\n",
      "violated events  [[1 3 5 6 9]]\n",
      "\n",
      "\n",
      "Iteration no.  3\n",
      "violated events  [[3]]\n",
      "\n",
      "\n",
      "Iteration no.  4\n",
      "violated events  [[1 3 6]]\n",
      "\n",
      "\n",
      "Iteration no.  5\n",
      "violated events  [[3 6]]\n",
      "\n",
      "\n",
      "Iteration no.  6\n",
      "violated events  [[1 3 5 6]]\n",
      "\n",
      "\n",
      "Iteration no.  7\n",
      "violated events  [[1 2 3 4 5 6 9]]\n",
      "\n",
      "\n",
      "Iteration no.  8\n",
      "Problem 0.013845283868824157\n",
      "weights [[5.43608832e-09]\n",
      " [3.66588426e-02]\n",
      " [9.45000135e-09]\n",
      " [7.21658932e-02]\n",
      " [3.09857154e-08]\n",
      " [1.89657760e-01]\n",
      " [3.42977925e-09]\n",
      " [1.63699706e-01]\n",
      " [2.84291324e-01]\n",
      " [2.53526425e-01]]\n",
      "Conditions satisfied\n"
     ]
    }
   ],
   "source": [
    "k=0\n",
    "events_0  = Y_returns<=Y_returns[-1]\n",
    "prob_0 = np.count_nonzero(events_0)/len(events_0)\n",
    "event_cuts = []\n",
    "\n",
    "while True:\n",
    "\n",
    "    weights = cp.Variable(shape=(assets,1),name=\"weights\")\n",
    "    objective = cp.Maximize((mean_returns.T@weights))  # Objective function for first stage problem\n",
    "\n",
    "    constraints = []\n",
    "    for event in event_cuts:\n",
    "        prob = np.count_nonzero(event)/len(event)\n",
    "        g_x_events = returns.T[event,:]@(weights)\n",
    "        constraints.append(((1/(np.count_nonzero(event)))*cp.sum(g_x_events)) >= ((1/(prob))*F_inverse_y_dict[prob]))\n",
    "    \n",
    "    constraints.extend([cp.sum(weights)==1,weights>=0])\n",
    "\n",
    "    # Solve Problem\n",
    "    problem = cp.Problem(objective, constraints)\n",
    "    problem.solve()\n",
    "\n",
    "    Z_k =returns.T@(weights.value).flatten()\n",
    "\n",
    "    # Calcualte t\n",
    "    delta_t = []\n",
    "    for t in Z_k:\n",
    "        B_events = Z_k <= t\n",
    "        prob = np.count_nonzero(B_events)/len(B_events)\n",
    "        F_k_inv = F_inverse_y_dict[prob]\n",
    "        E_Z_k_cond = (1/(np.count_nonzero(B_events)))*np.sum(Z_k[B_events])\n",
    "        delta_t_temp =  ((1/(prob))*F_k_inv) - E_Z_k_cond\n",
    "        delta_t.append(delta_t_temp)\n",
    "\n",
    "    delta_max = np.max(delta_t)\n",
    "    t_max = Z_k[np.argmax(delta_t)]\n",
    "\n",
    "    # print(delta_max)\n",
    "    \n",
    "    if delta_max <= 0:\n",
    "        print(\"Problem\",problem.value)\n",
    "        print(\"weights\",weights.value)\n",
    "        print(\"Conditions satisfied\")\n",
    "        break\n",
    "    else:\n",
    "        events_b = Z_k<=t_max\n",
    "        print(f\"violated events \",np.argwhere(events_b).T)\n",
    "        prob = np.count_nonzero(events_b)/len(events_b)\n",
    "        event_cuts.append(events_b)\n",
    "\n",
    "\n",
    "    k= k+1\n",
    "    print(\"\\n\")\n",
    "    print(\"Iteration no. \",k)\n",
    "\n"
   ]
  },
  {
   "cell_type": "code",
   "execution_count": 12,
   "metadata": {},
   "outputs": [
    {
     "name": "stdout",
     "output_type": "stream",
     "text": [
      "Problem 0.013845283868824157\n",
      "weights [[5.43608832e-09]\n",
      " [3.66588426e-02]\n",
      " [9.45000135e-09]\n",
      " [7.21658932e-02]\n",
      " [3.09857154e-08]\n",
      " [1.89657760e-01]\n",
      " [3.42977925e-09]\n",
      " [1.63699706e-01]\n",
      " [2.84291324e-01]\n",
      " [2.53526425e-01]]\n"
     ]
    }
   ],
   "source": [
    "print(\"Problem\",problem.value)\n",
    "print(\"weights\",weights.value)"
   ]
  },
  {
   "cell_type": "code",
   "execution_count": null,
   "metadata": {},
   "outputs": [],
   "source": []
  }
 ],
 "metadata": {
  "kernelspec": {
   "display_name": ".venv",
   "language": "python",
   "name": "python3"
  },
  "language_info": {
   "codemirror_mode": {
    "name": "ipython",
    "version": 3
   },
   "file_extension": ".py",
   "mimetype": "text/x-python",
   "name": "python",
   "nbconvert_exporter": "python",
   "pygments_lexer": "ipython3",
   "version": "3.10.11"
  }
 },
 "nbformat": 4,
 "nbformat_minor": 2
}
