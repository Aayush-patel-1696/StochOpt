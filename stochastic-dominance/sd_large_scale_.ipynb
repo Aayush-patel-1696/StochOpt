{
 "cells": [
  {
   "cell_type": "markdown",
   "metadata": {},
   "source": [
    "# Question 2 : Large Scale Stochastic Dominance"
   ]
  },
  {
   "cell_type": "code",
   "execution_count": 1,
   "metadata": {},
   "outputs": [],
   "source": [
    "import cvxpy as cp\n",
    "import numpy as np\n",
    "import pandas as pd"
   ]
  },
  {
   "cell_type": "code",
   "execution_count": 2,
   "metadata": {},
   "outputs": [],
   "source": [
    "# df = pd.read_excel(r'C:\\Users\\aayus\\Documents\\GitHub\\StochOpt\\stochastic-dominance\\returns_data.xlsx')\n",
    "# returns = df.iloc[:,1:].to_numpy()[1:]\n",
    "# print(returns)"
   ]
  },
  {
   "cell_type": "code",
   "execution_count": 2,
   "metadata": {},
   "outputs": [],
   "source": [
    "returns = np.array([[ 0.004, -0.025,  0.009,  0.012,  0.047, -0.019,  0.006, -0.037,\n",
    "         0.025,  0.021,  0.017,  0.019],\n",
    "       [ 0.014,  0.   , -0.039,  0.016, -0.006,  0.07 , -0.021, -0.022,\n",
    "         0.019,  0.025,  0.054,  0.04 ],\n",
    "       [ 0.001,  0.006,  0.005,  0.019,  0.016,  0.057, -0.052,  0.027,\n",
    "         0.039,  0.   ,  0.011,  0.002],\n",
    "       [-0.012, -0.021,  0.062,  0.036, -0.002, -0.038,  0.015, -0.003,\n",
    "         0.024,  0.012,  0.048, -0.007],\n",
    "       [-0.043,  0.005,  0.023,  0.   ,  0.023,  0.04 ,  0.034,  0.029,\n",
    "        -0.013, -0.04 ,  0.011,  0.003],\n",
    "       [ 0.015, -0.027, -0.01 , -0.027,  0.002,  0.038,  0.056, -0.004,\n",
    "         0.08 ,  0.001,  0.013,  0.026],\n",
    "       [-0.001,  0.011,  0.056, -0.024,  0.019, -0.048, -0.015,  0.019,\n",
    "         0.062,  0.023,  0.002, -0.017],\n",
    "       [ 0.039,  0.03 ,  0.003, -0.004,  0.016, -0.021,  0.003,  0.018,\n",
    "        -0.026, -0.022,  0.026,  0.073],\n",
    "       [ 0.017,  0.02 , -0.024, -0.004,  0.019,  0.039, -0.03 ,  0.025,\n",
    "         0.021,  0.054, -0.011,  0.056],\n",
    "       [ 0.108, -0.003,  0.061,  0.008,  0.024, -0.037, -0.013,  0.053,\n",
    "        -0.009, -0.021,  0.026, -0.009]])"
   ]
  },
  {
   "cell_type": "code",
   "execution_count": 3,
   "metadata": {},
   "outputs": [
    {
     "name": "stdout",
     "output_type": "stream",
     "text": [
      "mean [[0.00658333]\n",
      " [0.0125    ]\n",
      " [0.01091667]\n",
      " [0.0095    ]\n",
      " [0.006     ]\n",
      " [0.01358333]\n",
      " [0.00725   ]\n",
      " [0.01125   ]\n",
      " [0.01516667]\n",
      " [0.01566667]]\n"
     ]
    }
   ],
   "source": [
    "mean_returns= np.resize(returns.mean(axis=1),(10,1))\n",
    "print(\"mean\",mean_returns)"
   ]
  },
  {
   "cell_type": "code",
   "execution_count": 4,
   "metadata": {},
   "outputs": [
    {
     "data": {
      "text/plain": [
       "np.float64(0.010841666666666666)"
      ]
     },
     "execution_count": 4,
     "metadata": {},
     "output_type": "execute_result"
    }
   ],
   "source": [
    "np.mean(mean_returns)"
   ]
  },
  {
   "cell_type": "code",
   "execution_count": 5,
   "metadata": {},
   "outputs": [],
   "source": [
    "assets = 10\n",
    "senarios = 12"
   ]
  },
  {
   "cell_type": "code",
   "execution_count": 6,
   "metadata": {},
   "outputs": [],
   "source": [
    "# Compute of E(max(0,n-y))\n",
    "Y_weights = (1/assets)*(np.ones((assets,1)))\n",
    "Y_returns = np.sort(((returns.T)@Y_weights).flatten())\n",
    "V = []\n",
    "for eta in Y_returns:\n",
    "    v_j = np.sum((eta-Y_returns)[Y_returns< eta])/(len(Y_returns))\n",
    "    V.append(v_j)"
   ]
  },
  {
   "cell_type": "code",
   "execution_count": 7,
   "metadata": {},
   "outputs": [
    {
     "data": {
      "text/plain": [
       "0.013845284660021651"
      ]
     },
     "execution_count": 7,
     "metadata": {},
     "output_type": "execute_result"
    }
   ],
   "source": [
    "weights  = cp.Variable(shape=(assets,1),name=\"weights\")\n",
    "S = cp.Variable(shape=(senarios,senarios),name=\"slack\")\n",
    "X_returns = returns.T@weights\n",
    "\n",
    "constraints = []\n",
    "for j,eta in enumerate(Y_returns):\n",
    "    for i,x in enumerate(X_returns):\n",
    "        constraints.append(x+S[i,j]>=eta)\n",
    "\n",
    "for j,v_j in enumerate(V):\n",
    "    constraints.append((1/(len(Y_returns)))*cp.sum(S[:,j])<=v_j)\n",
    "\n",
    "constraints.extend([cp.sum(weights)==1,S>=0,weights>=0])\n",
    "\n",
    "objective = cp.Maximize((mean_returns.T@weights))\n",
    "problem = cp.Problem(objective, constraints)\n",
    "problem.solve()"
   ]
  },
  {
   "cell_type": "code",
   "execution_count": 8,
   "metadata": {},
   "outputs": [
    {
     "name": "stdout",
     "output_type": "stream",
     "text": [
      "Optimized Returns [-0.0017     -0.0004      0.00319999  0.0053      0.00839842  0.01028123\n",
      "  0.0141204   0.01562975  0.01703332  0.02170916  0.03148095  0.04109018]\n",
      "Equally weighted Returns [-0.0017 -0.0004  0.0032  0.0053  0.0081  0.0105  0.0142  0.0146  0.0158\n",
      "  0.0186  0.0197  0.0222]\n"
     ]
    }
   ],
   "source": [
    "X_returns = np.sort((returns.T@weights.value).flatten())\n",
    "print(\"Optimized Returns\",X_returns)\n",
    "print(\"Equally weighted Returns\",Y_returns)"
   ]
  },
  {
   "cell_type": "code",
   "execution_count": 9,
   "metadata": {},
   "outputs": [
    {
     "name": "stdout",
     "output_type": "stream",
     "text": [
      "Optimal Weights [[8.05783707e-10]\n",
      " [3.66586340e-02]\n",
      " [1.79852513e-09]\n",
      " [7.21659992e-02]\n",
      " [5.90082030e-09]\n",
      " [1.89657805e-01]\n",
      " [3.18553277e-10]\n",
      " [1.63699545e-01]\n",
      " [2.84291684e-01]\n",
      " [2.53526323e-01]]\n"
     ]
    }
   ],
   "source": [
    "print(\"Optimal Weights\",weights.value)"
   ]
  },
  {
   "cell_type": "code",
   "execution_count": null,
   "metadata": {},
   "outputs": [],
   "source": []
  }
 ],
 "metadata": {
  "kernelspec": {
   "display_name": ".venv",
   "language": "python",
   "name": "python3"
  },
  "language_info": {
   "codemirror_mode": {
    "name": "ipython",
    "version": 3
   },
   "file_extension": ".py",
   "mimetype": "text/x-python",
   "name": "python",
   "nbconvert_exporter": "python",
   "pygments_lexer": "ipython3",
   "version": "3.10.11"
  }
 },
 "nbformat": 4,
 "nbformat_minor": 2
}
