{
 "cells": [
  {
   "cell_type": "markdown",
   "metadata": {},
   "source": [
    "# Question 2 Deepest Event Cut Method"
   ]
  },
  {
   "cell_type": "code",
   "execution_count": 2,
   "metadata": {},
   "outputs": [],
   "source": [
    "import cvxpy as cp\n",
    "import numpy as np\n",
    "import pandas as pd"
   ]
  },
  {
   "cell_type": "code",
   "execution_count": 3,
   "metadata": {},
   "outputs": [
    {
     "name": "stdout",
     "output_type": "stream",
     "text": [
      "[[ 0.004 -0.025  0.009  0.012  0.047 -0.019  0.006 -0.037  0.025  0.021\n",
      "   0.017  0.019]\n",
      " [ 0.014  0.    -0.039  0.016 -0.006  0.07  -0.021 -0.022  0.019  0.025\n",
      "   0.054  0.04 ]\n",
      " [ 0.001  0.006  0.005  0.019  0.016  0.057 -0.052  0.027  0.039  0.\n",
      "   0.011  0.002]\n",
      " [-0.012 -0.021  0.062  0.036 -0.002 -0.038  0.015 -0.003  0.024  0.012\n",
      "   0.048 -0.007]\n",
      " [-0.043  0.005  0.023  0.     0.023  0.04   0.034  0.029 -0.013 -0.04\n",
      "   0.011  0.003]\n",
      " [ 0.015 -0.027 -0.01  -0.027  0.002  0.038  0.056 -0.004  0.08   0.001\n",
      "   0.013  0.026]\n",
      " [-0.001  0.011  0.056 -0.024  0.019 -0.048 -0.015  0.019  0.062  0.023\n",
      "   0.002 -0.017]\n",
      " [ 0.039  0.03   0.003 -0.004  0.016 -0.021  0.003  0.018 -0.026 -0.022\n",
      "   0.026  0.073]\n",
      " [ 0.017  0.02  -0.024 -0.004  0.019  0.039 -0.03   0.025  0.021  0.054\n",
      "  -0.011  0.056]\n",
      " [ 0.108 -0.003  0.061  0.008  0.024 -0.037 -0.013  0.053 -0.009 -0.021\n",
      "   0.026 -0.009]]\n"
     ]
    }
   ],
   "source": [
    "df = pd.read_excel(r'C:\\Users\\aayus\\Documents\\GitHub\\StochOpt\\stochastic-dominance\\returns_data.xlsx')\n",
    "returns = df.iloc[:,1:].to_numpy()[1:]\n",
    "print(returns)"
   ]
  },
  {
   "cell_type": "code",
   "execution_count": 4,
   "metadata": {},
   "outputs": [
    {
     "name": "stdout",
     "output_type": "stream",
     "text": [
      "mean [[0.00658333]\n",
      " [0.0125    ]\n",
      " [0.01091667]\n",
      " [0.0095    ]\n",
      " [0.006     ]\n",
      " [0.01358333]\n",
      " [0.00725   ]\n",
      " [0.01125   ]\n",
      " [0.01516667]\n",
      " [0.01566667]]\n"
     ]
    }
   ],
   "source": [
    "mean_returns= np.resize(returns.mean(axis=1),(10,1))\n",
    "print(\"mean\",mean_returns)"
   ]
  },
  {
   "cell_type": "code",
   "execution_count": 5,
   "metadata": {},
   "outputs": [],
   "source": [
    "assets = 10\n",
    "senarios = 12"
   ]
  },
  {
   "cell_type": "code",
   "execution_count": 6,
   "metadata": {},
   "outputs": [],
   "source": [
    "# Compute of E(max(0,n-y))\n",
    "Y_weights = (1/assets)*(np.ones((assets,1)))\n",
    "Y_returns = np.sort(((returns.T)@Y_weights).flatten())\n",
    "V = []\n",
    "for eta in Y_returns:\n",
    "    v_j = np.sum((eta-Y_returns)[Y_returns< eta])/(len(Y_returns))\n",
    "    V.append(v_j)"
   ]
  },
  {
   "cell_type": "code",
   "execution_count": 7,
   "metadata": {},
   "outputs": [],
   "source": [
    "dict_eta_V = dict(zip(Y_returns,V))"
   ]
  },
  {
   "cell_type": "code",
   "execution_count": 8,
   "metadata": {},
   "outputs": [
    {
     "name": "stdout",
     "output_type": "stream",
     "text": [
      "iteration 0 events [[ 1  3  5  6  8  9 11]]\n",
      "Iteration no.  1\n",
      "iteration 1 events [[ 1  3  5  6  8 10]]\n",
      "Iteration no.  2\n",
      "iteration 2 events [[ 2  3  6 10]]\n",
      "Iteration no.  3\n",
      "iteration 3 events [[3 6]]\n",
      "Iteration no.  4\n",
      "iteration 4 events [[1 3 5 6 9]]\n",
      "Iteration no.  5\n",
      "iteration 5 events [[1 3]]\n",
      "Iteration no.  6\n",
      "iteration 6 events [[1 3 5 6]]\n",
      "Iteration no.  7\n",
      "iteration 7 events [[1 3 6]]\n",
      "Iteration no.  8\n",
      "iteration 8 events [[ 1  2  3  5  6  9 10]]\n",
      "Iteration no.  9\n",
      "iteration 9 events [[1 3 9]]\n",
      "Iteration no.  10\n",
      "iteration 10 events [[1 3]]\n",
      "Iteration no.  11\n",
      "iteration 11 events [[ 2  3  6 10]]\n",
      "Iteration no.  12\n",
      "iteration 12 events [[6]]\n",
      "Iteration no.  13\n",
      "iteration 13 events [[1 3 6]]\n",
      "Iteration no.  14\n",
      "iteration 14 events [[3]]\n",
      "Iteration no.  15\n",
      "iteration 15 events [[1 3 5 6]]\n",
      "Iteration no.  16\n",
      "iteration 16 events [[3 6]]\n",
      "Iteration no.  17\n",
      "iteration 17 events [[1 2 3 4 5 6 9]]\n",
      "Iteration no.  18\n",
      "Problem 0.013845284079889785\n",
      "weights [[2.67754418e-09]\n",
      " [3.66589482e-02]\n",
      " [4.67283939e-09]\n",
      " [7.21657964e-02]\n",
      " [1.65301415e-08]\n",
      " [1.89657753e-01]\n",
      " [1.60744160e-09]\n",
      " [1.63699784e-01]\n",
      " [2.84291176e-01]\n",
      " [2.53526517e-01]]\n",
      "Conditions satisfied\n"
     ]
    }
   ],
   "source": [
    "k=0\n",
    "Eta = {Y_returns[-1]:Y_returns<=Y_returns[-1]}\n",
    "# Eta = {}\n",
    "while True:\n",
    "\n",
    "    weights = cp.Variable(shape=(assets,1),name=\"weights\")\n",
    " \n",
    "    objective = cp.Maximize((mean_returns.T@weights))  # Objective function for first stage problem\n",
    "\n",
    "  \n",
    "    constraints = []\n",
    "    for et in Eta:\n",
    "        events = Eta[et]\n",
    "        g_x_events = returns.T[events,:]@(weights)\n",
    "  \n",
    "        constraints.append(((1/(len(events)))*cp.sum(et -g_x_events )) <= dict_eta_V[et])\n",
    "    \n",
    "    constraints.extend([cp.sum(weights)==1,weights>=0])\n",
    "\n",
    "    # Solve Problem\n",
    "    problem = cp.Problem(objective, constraints)\n",
    "    problem.solve()\n",
    "\n",
    "    Z_x =returns.T@(weights.value).flatten()\n",
    "\n",
    "    # Calculate deltas \n",
    "    delta_j = []\n",
    "    for eta in Y_returns:\n",
    "        delta_j_temp =  np.sum((eta-Z_x)[Z_x< eta])/(len(Z_x))-dict_eta_V[eta]\n",
    "        delta_j.append(delta_j_temp)\n",
    "\n",
    "    \n",
    "    # Find out max eta\n",
    "    delta_max = np.max(delta_j)\n",
    "    eta_max = Y_returns[np.argmax(delta_j)]\n",
    "\n",
    "    if delta_max <= 0:\n",
    "        print(\"Problem\",problem.value)\n",
    "        print(\"weights\",weights.value)\n",
    "        print(\"Conditions satisfied\")\n",
    "        break\n",
    "    else:\n",
    "        print(f\"iteration {k} events\",np.argwhere(Z_x<eta_max).T)\n",
    "        Eta[eta_max] = Z_x<eta_max\n",
    "        \n",
    "    k= k+1\n",
    "    print(\"Iteration no. \",k)\n"
   ]
  },
  {
   "cell_type": "code",
   "execution_count": 9,
   "metadata": {},
   "outputs": [
    {
     "name": "stdout",
     "output_type": "stream",
     "text": [
      "Problem 0.013845284079889785\n",
      "weights [[2.67754418e-09]\n",
      " [3.66589482e-02]\n",
      " [4.67283939e-09]\n",
      " [7.21657964e-02]\n",
      " [1.65301415e-08]\n",
      " [1.89657753e-01]\n",
      " [1.60744160e-09]\n",
      " [1.63699784e-01]\n",
      " [2.84291176e-01]\n",
      " [2.53526517e-01]]\n"
     ]
    }
   ],
   "source": [
    "print(\"Problem\",problem.value)\n",
    "print(\"weights\",weights.value)"
   ]
  },
  {
   "cell_type": "code",
   "execution_count": null,
   "metadata": {},
   "outputs": [],
   "source": []
  }
 ],
 "metadata": {
  "kernelspec": {
   "display_name": ".venv",
   "language": "python",
   "name": "python3"
  },
  "language_info": {
   "codemirror_mode": {
    "name": "ipython",
    "version": 3
   },
   "file_extension": ".py",
   "mimetype": "text/x-python",
   "name": "python",
   "nbconvert_exporter": "python",
   "pygments_lexer": "ipython3",
   "version": "3.10.11"
  }
 },
 "nbformat": 4,
 "nbformat_minor": 2
}
