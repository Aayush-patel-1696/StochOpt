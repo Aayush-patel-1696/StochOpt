{
 "cells": [
  {
   "cell_type": "code",
   "execution_count": 2,
   "metadata": {},
   "outputs": [],
   "source": [
    "import cvxpy as cp\n",
    "import numpy as np"
   ]
  },
  {
   "cell_type": "code",
   "execution_count": 74,
   "metadata": {},
   "outputs": [],
   "source": [
    "x = cp.Variable(shape=(2,1))\n",
    "c = np.array([1,1]).reshape(2,1)"
   ]
  },
  {
   "cell_type": "code",
   "execution_count": 4,
   "metadata": {},
   "outputs": [
    {
     "data": {
      "text/plain": [
       "Expression(AFFINE, UNKNOWN, (1, 1))"
      ]
     },
     "execution_count": 4,
     "metadata": {},
     "output_type": "execute_result"
    }
   ],
   "source": []
  },
  {
   "cell_type": "code",
   "execution_count": 53,
   "metadata": {},
   "outputs": [],
   "source": [
    "u = [[1,1]]\n",
    "k=1"
   ]
  },
  {
   "cell_type": "code",
   "execution_count": 78,
   "metadata": {},
   "outputs": [
    {
     "data": {
      "text/plain": [
       "2"
      ]
     },
     "execution_count": 78,
     "metadata": {},
     "output_type": "execute_result"
    }
   ],
   "source": [
    "len(u_new[:,0])"
   ]
  },
  {
   "cell_type": "code",
   "execution_count": 79,
   "metadata": {},
   "outputs": [
    {
     "data": {
      "text/plain": [
       "0.7142857143399886"
      ]
     },
     "execution_count": 79,
     "metadata": {},
     "output_type": "execute_result"
    }
   ],
   "source": [
    "x = cp.Variable(shape=(2,1))\n",
    "lamb = cp.Variable(shape=(1,len(u)))\n",
    "c = np.array([1,1]).reshape(2,1)\n",
    "\n",
    "u_new = np.array(u).reshape(2,len(u))\n",
    "\n",
    "g_s = [np.array([1,2]),np.array([3,-1])]\n",
    "\n",
    "constraints = []\n",
    "for index,j in enumerate(range(0,len(u_new[:,0]))):\n",
    "    constraints.append(g_s[index]@x >= lamb@u_new[index,:] )\n",
    "\n",
    "constraints_extra = [cp.sum(lamb)==1,x>=0,x<=100]\n",
    "constraints.extend(constraints_extra)\n",
    "\n",
    "objective = cp.Minimize(c.T@x)\n",
    "problem = cp.Problem(objective, constraints)\n",
    "problem.solve()"
   ]
  },
  {
   "cell_type": "code",
   "execution_count": 89,
   "metadata": {},
   "outputs": [
    {
     "name": "stdout",
     "output_type": "stream",
     "text": [
      "master problem value 0.7142857143399886\n",
      "Optimal solution at iteration 1 [0.42857143 0.28571429]\n",
      "dual of the constraints [0.57142857 0.14285714]\n"
     ]
    }
   ],
   "source": [
    "print(\"master problem value\",problem.value)\n",
    "print(\"Optimal solution at iteration 1\",x.value.flatten())\n",
    "print(\"dual of the constraints at iteration 1\", np.array([constraints[0].dual_value[0],constraints[1].dual_value[0]]))"
   ]
  },
  {
   "cell_type": "code",
   "execution_count": null,
   "metadata": {},
   "outputs": [],
   "source": []
  }
 ],
 "metadata": {
  "kernelspec": {
   "display_name": ".venv",
   "language": "python",
   "name": "python3"
  },
  "language_info": {
   "codemirror_mode": {
    "name": "ipython",
    "version": 3
   },
   "file_extension": ".py",
   "mimetype": "text/x-python",
   "name": "python",
   "nbconvert_exporter": "python",
   "pygments_lexer": "ipython3",
   "version": "3.10.11"
  }
 },
 "nbformat": 4,
 "nbformat_minor": 2
}
